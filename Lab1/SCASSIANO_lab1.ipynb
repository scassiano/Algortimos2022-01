{
  "nbformat": 4,
  "nbformat_minor": 0,
  "metadata": {
    "colab": {
      "name": "SCASSIANO_lab1.ipynb",
      "provenance": [],
      "collapsed_sections": []
    },
    "kernelspec": {
      "display_name": "Python 3",
      "language": "python",
      "name": "python3"
    },
    "language_info": {
      "codemirror_mode": {
        "name": "ipython",
        "version": 3
      },
      "file_extension": ".py",
      "mimetype": "text/x-python",
      "name": "python",
      "nbconvert_exporter": "python",
      "pygments_lexer": "ipython3",
      "version": "3.6.4"
    }
  },
  "cells": [
    {
      "cell_type": "markdown",
      "metadata": {
        "id": "eQzBbvyKQymx"
      },
      "source": [
        "<div align=\"center\">\n",
        "<img style=\"display: block; margin: auto;\" alt=\"photo\" src=\"https://cdn.quantconnect.com/web/i/icon.png\">\n",
        "\n",
        "Quantconnect\n",
        "\n",
        "Introduction to Financial Python\n",
        "</div>\n",
        "\n",
        "# 01 Data Types and Data Structures\n",
        "\n",
        "# Introduction\n",
        "\n",
        "This tutorial provides a basic introduction to the Python programming language. If you are new to Python, you should run the code snippets while reading this tutorial. If you are an advanced Python user, please feel free to skip this chapter.\n",
        "\n",
        "# Basic Variable Types\n",
        "The basic types of variables in Python are: strings, integers, floating point numbers and booleans.\n",
        "\n",
        "Strings in python are identified as a contiguous set of characters represented in either single quotes (' ') or double quotes (\" \").\n"
      ]
    },
    {
      "cell_type": "code",
      "metadata": {
        "colab": {
          "base_uri": "https://localhost:8080/"
        },
        "id": "N5t-UrcfOqid",
        "outputId": "20b121c0-4c73-4070-cd1b-6afab036d1c8"
      },
      "source": [
        "my_string1 = 'Bienvenido a'\n",
        "my_string2 = \"Algoritmos\"\n",
        "print(my_string1 + ' ' + my_string2)\n",
        "\n",
        "mi_string1 = 'Soy un'\n",
        "mi_string2 = 'estudiante'\n",
        "mi_string3 = 'de 2022'\n",
        "print(mi_string1 + ' ' + mi_string2 +\" \"+mi_string3)"
      ],
      "execution_count": 136,
      "outputs": [
        {
          "output_type": "stream",
          "name": "stdout",
          "text": [
            "Bienvenido a Algoritmos\n",
            "Soy un estudiante de 2022\n"
          ]
        }
      ]
    },
    {
      "cell_type": "markdown",
      "metadata": {
        "id": "bXHnxZyHSd1M"
      },
      "source": [
        "An integer is a round number with no values after the decimal point."
      ]
    },
    {
      "cell_type": "code",
      "metadata": {
        "colab": {
          "base_uri": "https://localhost:8080/"
        },
        "id": "pNjuz3toOqif",
        "outputId": "f4a5a04e-44fe-49d4-fa22-e15d02c898de"
      },
      "source": [
        "my_int = 2022\n",
        "print(my_int)\n",
        "print(type(my_int)) #La funcion type() indica la clase de la variable que recibe como argumento\n",
        "\n",
        "mi_int = -2022\n",
        "print(mi_int)\n",
        "print(type(mi_int))"
      ],
      "execution_count": 137,
      "outputs": [
        {
          "output_type": "stream",
          "name": "stdout",
          "text": [
            "2022\n",
            "<class 'int'>\n",
            "-2022\n",
            "<class 'int'>\n"
          ]
        }
      ]
    },
    {
      "cell_type": "markdown",
      "metadata": {
        "id": "_1ZanWrYSnzF"
      },
      "source": [
        "The built-in function int() can convert a string into an integer."
      ]
    },
    {
      "cell_type": "code",
      "metadata": {
        "colab": {
          "base_uri": "https://localhost:8080/"
        },
        "id": "zPwGb20FOqif",
        "outputId": "cf274acc-da90-4c39-a558-295246b5d5dc"
      },
      "source": [
        "my_string = \"2022\"\n",
        "print(type(my_string))\n",
        "my_int = int(my_string) #Convierte el string \"2022\" en el entero 2022 y lo almacena en la variable my_int\n",
        "print(type(my_int))"
      ],
      "execution_count": 140,
      "outputs": [
        {
          "output_type": "stream",
          "name": "stdout",
          "text": [
            "<class 'str'>\n",
            "<class 'int'>\n"
          ]
        }
      ]
    },
    {
      "cell_type": "markdown",
      "metadata": {
        "id": "WqMDPDTHSrE9"
      },
      "source": [
        "A floating point number, or a float, is a real number in mathematics. In Python we need to include a value after a decimal point to define it as a float"
      ]
    },
    {
      "cell_type": "code",
      "metadata": {
        "colab": {
          "base_uri": "https://localhost:8080/"
        },
        "id": "otCzKKW9Oqig",
        "outputId": "7be1a8cc-013c-4ce5-881b-95f004662b8a"
      },
      "source": [
        "my_string = \"2022\"\n",
        "my_float = float(my_string) #La funcion float() permite convertir el numero en el string de argumento en un float a pesar de que el string no tenga un punto decimal\n",
        "print(type(my_float))"
      ],
      "execution_count": null,
      "outputs": [
        {
          "output_type": "stream",
          "name": "stdout",
          "text": [
            "<class 'float'>\n"
          ]
        }
      ]
    },
    {
      "cell_type": "markdown",
      "metadata": {
        "id": "2iuyv8Q7StTJ"
      },
      "source": [
        "As you can see above, if we don't include a decimal value, the variable would be defined as an integer. The built-in function float() can convert a string or an integer into a float."
      ]
    },
    {
      "cell_type": "code",
      "metadata": {
        "colab": {
          "base_uri": "https://localhost:8080/"
        },
        "id": "wwLw5VthOqig",
        "outputId": "d7ceb36e-8827-467c-e1be-4c0fe8b5f106"
      },
      "source": [
        "my_bool = False\n",
        "print(my_bool)\n",
        "print(type(my_bool))\n",
        "\n",
        "mi_otro_bool = True\n",
        "print(mi_otro_bool)\n",
        "print(type(mi_otro_bool))"
      ],
      "execution_count": 141,
      "outputs": [
        {
          "output_type": "stream",
          "name": "stdout",
          "text": [
            "False\n",
            "<class 'bool'>\n",
            "True\n",
            "<class 'bool'>\n"
          ]
        }
      ]
    },
    {
      "cell_type": "markdown",
      "metadata": {
        "id": "bnGMwH21Szr_"
      },
      "source": [
        "A boolean, or bool, is a binary variable. Its value can only be True or False. It is useful when we do some logic operations, which would be covered in our next chapter."
      ]
    },
    {
      "cell_type": "code",
      "metadata": {
        "colab": {
          "base_uri": "https://localhost:8080/"
        },
        "id": "DMa6pDl5Oqig",
        "outputId": "5773b264-f5d6-42bc-f3a4-59d652da8e56"
      },
      "source": [
        "print(\"Adición \", 1+1)\n",
        "print(\"Sustracción \", 5-2)\n",
        "print(\"Multiplicación \", 2*3)\n",
        "print(\"División \", 10/2)\n",
        "print('Exponente ', 2**3)"
      ],
      "execution_count": 142,
      "outputs": [
        {
          "output_type": "stream",
          "name": "stdout",
          "text": [
            "Adición  2\n",
            "Sustracción  3\n",
            "Multiplicación  6\n",
            "División  5.0\n",
            "Exponente  8\n"
          ]
        }
      ]
    },
    {
      "cell_type": "markdown",
      "metadata": {
        "id": "1Xc9G9_sS2ju"
      },
      "source": [
        "# Basic Math Operations\n",
        "\n",
        "The basic math operators in python are demonstrated below:"
      ]
    },
    {
      "cell_type": "code",
      "metadata": {
        "colab": {
          "base_uri": "https://localhost:8080/"
        },
        "id": "KE9gUryAOqig",
        "outputId": "31d41894-bbb7-4261-f60a-36dfad759d47"
      },
      "source": [
        "#Dos formas de realizar la misma división de numeros en python\n",
        "print(1/3)\n",
        "print(1.0/3)"
      ],
      "execution_count": null,
      "outputs": [
        {
          "output_type": "stream",
          "name": "stdout",
          "text": [
            "0.3333333333333333\n",
            "0.3333333333333333\n"
          ]
        }
      ]
    },
    {
      "cell_type": "markdown",
      "metadata": {
        "id": "AN5Oa3DoS_Nf"
      },
      "source": [
        "# Data Collections\n",
        "\n",
        "## List\n",
        "A list is an ordered collection of values. A list is mutable, which means you can change a list's value without changing the list itself. Creating a list is simply putting different comma-separated values between square brackets."
      ]
    },
    {
      "cell_type": "code",
      "metadata": {
        "colab": {
          "base_uri": "https://localhost:8080/"
        },
        "id": "-tQdNqCvOqig",
        "outputId": "fd5732ec-b375-4b5e-94eb-e2399c709491"
      },
      "source": [
        "my_list = ['Algoritmos', '2022'] #Una lista que contiene 2 strings\n",
        "print(my_list)"
      ],
      "execution_count": null,
      "outputs": [
        {
          "output_type": "stream",
          "name": "stdout",
          "text": [
            "['Algoritmos', '2022']\n"
          ]
        }
      ]
    },
    {
      "cell_type": "markdown",
      "metadata": {
        "id": "1O0TsgZCTHrM"
      },
      "source": [
        "The values in a list are called \"elements\". We can access list elements by indexing. Python index starts from 0. So if you have a list of length n, the index of the first element will be 0, and that of the last element will be n − 1. By the way, the length of a list can be obtained by the built-in function len()."
      ]
    },
    {
      "cell_type": "code",
      "metadata": {
        "colab": {
          "base_uri": "https://localhost:8080/"
        },
        "id": "QhuVhRR5Oqih",
        "outputId": "7c3d3eca-b520-465c-a381-2b000ab1832f"
      },
      "source": [
        "my_list = ['Algoritmos', '2022', 1,2,3] #Una lista con 5 elementos: dos strings y tres enteros\n",
        "print(len(my_list)) #Imprimir el tamaño de la lista\n",
        "print(my_list[0]) #Imprimir el ultimo elemento de la lista\n",
        "print(my_list[len(my_list) -1]) #Imprimir el primer elemento de la lista"
      ],
      "execution_count": null,
      "outputs": [
        {
          "output_type": "stream",
          "name": "stdout",
          "text": [
            "5\n",
            "Algoritmos\n",
            "3\n"
          ]
        }
      ]
    },
    {
      "cell_type": "markdown",
      "metadata": {
        "id": "jgSZy1VGTKSc"
      },
      "source": [
        "You can also change the elements in the list by accessing an index and assigning a new value."
      ]
    },
    {
      "cell_type": "code",
      "metadata": {
        "colab": {
          "base_uri": "https://localhost:8080/"
        },
        "id": "NQBNLjAvOqih",
        "outputId": "dd66c3df-6ac1-41f8-f28a-ac266d1caa9c"
      },
      "source": [
        "my_list = ['Algoritmos','2022',1,2,3]\n",
        "my_list[2] = 'Empanada' #Modificar el tercer elemento de la lista (Elemento con indice 2)\n",
        "print(my_list)"
      ],
      "execution_count": null,
      "outputs": [
        {
          "output_type": "stream",
          "name": "stdout",
          "text": [
            "['Algoritmos', '2022', 'Empanada', 2, 3]\n"
          ]
        }
      ]
    },
    {
      "cell_type": "markdown",
      "metadata": {
        "id": "EQPs5ojoTVrk"
      },
      "source": [
        "A list can also be sliced with a colon:"
      ]
    },
    {
      "cell_type": "code",
      "metadata": {
        "colab": {
          "base_uri": "https://localhost:8080/"
        },
        "id": "keNX2RbtOqii",
        "outputId": "9cde9a49-0f1b-480b-a1b0-793eb13adf08"
      },
      "source": [
        "my_list = ['Algortimos','2022',1,2,3]\n",
        "print(my_list[1:3]) #Obtener una lista con los elementos desde el indice 1 hasta el indice (3-1), es decir indice 2"
      ],
      "execution_count": null,
      "outputs": [
        {
          "output_type": "stream",
          "name": "stdout",
          "text": [
            "['2022', 1]\n"
          ]
        }
      ]
    },
    {
      "cell_type": "markdown",
      "metadata": {
        "id": "AZqQd0K8TYul"
      },
      "source": [
        "The slice starts from the first element indicated, but excludes the last element indicated. Here we select all elements starting from index 1, which refers to the second element:"
      ]
    },
    {
      "cell_type": "code",
      "metadata": {
        "colab": {
          "base_uri": "https://localhost:8080/"
        },
        "id": "0-76sLfkOqii",
        "outputId": "b64955c4-3538-467f-a574-9e2512a7e901"
      },
      "source": [
        "print(my_list[1:])"
      ],
      "execution_count": null,
      "outputs": [
        {
          "output_type": "stream",
          "name": "stdout",
          "text": [
            "['2022', 1, 2, 3]\n"
          ]
        }
      ]
    },
    {
      "cell_type": "markdown",
      "metadata": {
        "id": "XBqvhUdZVKWs"
      },
      "source": [
        "And all elements up to but excluding index 3:"
      ]
    },
    {
      "cell_type": "code",
      "metadata": {
        "colab": {
          "base_uri": "https://localhost:8080/"
        },
        "id": "5NWr75L9Oqii",
        "outputId": "ea0cf4e9-83f6-45d5-d58a-2841e4b43d17"
      },
      "source": [
        "print(my_list[:3])"
      ],
      "execution_count": null,
      "outputs": [
        {
          "output_type": "stream",
          "name": "stdout",
          "text": [
            "['Algortimos', '2022', 1]\n"
          ]
        }
      ]
    },
    {
      "cell_type": "markdown",
      "metadata": {
        "id": "eAFmM6bkTZz9"
      },
      "source": [
        "If you wish to add or remove an element from a list, you can use the append() and remove() methods for lists as follows:"
      ]
    },
    {
      "cell_type": "code",
      "metadata": {
        "colab": {
          "base_uri": "https://localhost:8080/"
        },
        "id": "pHmgTPElTo19",
        "outputId": "73d974fb-b89f-498c-dd3a-78fd2aea3056"
      },
      "source": [
        "my_list = ['Algoritmos', '2022']\n",
        "my_list.append('Saludos') #append() permite añadir el elemento a la lista\n",
        "print(my_list)"
      ],
      "execution_count": null,
      "outputs": [
        {
          "output_type": "stream",
          "name": "stdout",
          "text": [
            "['Algoritmos', '2022', 'Saludos']\n"
          ]
        }
      ]
    },
    {
      "cell_type": "code",
      "metadata": {
        "colab": {
          "base_uri": "https://localhost:8080/"
        },
        "id": "4C4U1Yf0Tr8l",
        "outputId": "bb0a7f2b-1f2e-4039-a440-f8ae0ff4e90f"
      },
      "source": [
        "my_list.remove('Saludos') #remove() permite eliminar el elemento de la lista\n",
        "print(my_list)"
      ],
      "execution_count": null,
      "outputs": [
        {
          "output_type": "stream",
          "name": "stdout",
          "text": [
            "['Algoritmos', '2022']\n"
          ]
        }
      ]
    },
    {
      "cell_type": "markdown",
      "metadata": {
        "id": "11W1gG-cVmOU"
      },
      "source": [
        "When there are repeated instances of \"Hello\", the first one is removed.\n",
        "\n",
        "## Tuple\n",
        "A tuple is a data structure type similar to a list. The difference is that a tuple is immutable, which means you can't change the elements in it once it's defined. We create a tuple by putting comma-separated values between parentheses."
      ]
    },
    {
      "cell_type": "code",
      "metadata": {
        "collapsed": true,
        "id": "vPmn6BAaOqii"
      },
      "source": [
        "my_tuple = ('Bienvenido','a','Algoritmos')"
      ],
      "execution_count": null,
      "outputs": []
    },
    {
      "cell_type": "markdown",
      "metadata": {
        "id": "zMIme4dDV0Wz"
      },
      "source": [
        "Just like a list, a tuple can be sliced by using index."
      ]
    },
    {
      "cell_type": "code",
      "metadata": {
        "colab": {
          "base_uri": "https://localhost:8080/"
        },
        "id": "8P-ddO0sOqii",
        "outputId": "9c0204de-7b8f-44f3-89da-baa78ea6a1c8"
      },
      "source": [
        "my_tuple = ('Bienvenido','a','Algoritmos')\n",
        "print(my_tuple[1:])"
      ],
      "execution_count": null,
      "outputs": [
        {
          "output_type": "stream",
          "name": "stdout",
          "text": [
            "('a', 'Algoritmos')\n"
          ]
        }
      ]
    },
    {
      "cell_type": "markdown",
      "metadata": {
        "id": "l2JqbusAV1Y2"
      },
      "source": [
        "## Set\n",
        "A set is an **unordered**  collection with **no duplicate** elements. The built-in function **set()** can be used to create sets."
      ]
    },
    {
      "cell_type": "code",
      "metadata": {
        "colab": {
          "base_uri": "https://localhost:8080/"
        },
        "id": "Plau8r-UOqij",
        "outputId": "6d05c275-7f0a-4ca5-af5f-65fee357f4c2"
      },
      "source": [
        "stock_list = ['AAPL','GOOG','IBM','AAPL','IBM','FB','F','GOOG']\n",
        "stock_set = set(stock_list) #Por medio de la funcion set() se crea un set con los elementos en la lista que recibe como argumento\n",
        "print(stock_set)"
      ],
      "execution_count": null,
      "outputs": [
        {
          "output_type": "stream",
          "name": "stdout",
          "text": [
            "{'F', 'AAPL', 'GOOG', 'FB', 'IBM'}\n"
          ]
        }
      ]
    },
    {
      "cell_type": "markdown",
      "metadata": {
        "id": "Jyb4GGIoWIHk"
      },
      "source": [
        "Set is an easy way to remove duplicate elements from a list.\n",
        "\n",
        "##Dictionary\n",
        "A dictionary is one of the most important data structures in Python. Unlike sequences which are indexed by integers, dictionaries are indexed by keys which can be either strings or floats.\n",
        "\n",
        "A dictionary is an **unordered** collection of key : value pairs, with the requirement that the keys are unique. We create a dictionary by placing a comma-separated list of key : value pairs within the braces."
      ]
    },
    {
      "cell_type": "code",
      "metadata": {
        "collapsed": true,
        "id": "36mTe5BaOqij"
      },
      "source": [
        "my_dic = {'IS1':'Ingenieria de Software 1', 'BD':'Bases de Datos', 'A':'Algoritmos'}"
      ],
      "execution_count": null,
      "outputs": []
    },
    {
      "cell_type": "code",
      "metadata": {
        "colab": {
          "base_uri": "https://localhost:8080/"
        },
        "id": "KUfdVf43Oqij",
        "outputId": "90f67383-c112-4d53-b828-d8d6b1087c49"
      },
      "source": [
        "print(my_dic['A'])"
      ],
      "execution_count": null,
      "outputs": [
        {
          "output_type": "stream",
          "name": "stdout",
          "text": [
            "Algoritmos\n"
          ]
        }
      ]
    },
    {
      "cell_type": "markdown",
      "metadata": {
        "id": "gSicoNqDWP4c"
      },
      "source": [
        "After defining a dictionary, we can access any value by indicating its key in brackets."
      ]
    },
    {
      "cell_type": "code",
      "metadata": {
        "colab": {
          "base_uri": "https://localhost:8080/"
        },
        "id": "IrTZdq9FOqij",
        "outputId": "efa7cbc1-753f-41bd-df91-6d99563d101c"
      },
      "source": [
        "my_dic['A'] = 'Algoritmos 2022' #Se accede al elemento del diccionario que tiene 'A' como valor de la llave y se modifica su valor\n",
        "print(my_dic['A'])"
      ],
      "execution_count": null,
      "outputs": [
        {
          "output_type": "stream",
          "name": "stdout",
          "text": [
            "Algoritmos 2022\n"
          ]
        }
      ]
    },
    {
      "cell_type": "markdown",
      "metadata": {
        "id": "M9sDsTEMWQvc"
      },
      "source": [
        "We can also change the value associated with a specified key:"
      ]
    },
    {
      "cell_type": "code",
      "metadata": {
        "colab": {
          "base_uri": "https://localhost:8080/"
        },
        "id": "lupRHf1_Oqij",
        "outputId": "60bacc2d-fd67-4d17-9851-baf99e5a4343"
      },
      "source": [
        "print(my_dic.keys())"
      ],
      "execution_count": null,
      "outputs": [
        {
          "output_type": "stream",
          "name": "stdout",
          "text": [
            "dict_keys(['IS1', 'BD', 'A'])\n"
          ]
        }
      ]
    },
    {
      "cell_type": "markdown",
      "metadata": {
        "id": "VPuDinlwWS9D"
      },
      "source": [
        "The built-in method of the dictionary object dict.keys() returns a list of all the keys used in the dictionary."
      ]
    },
    {
      "cell_type": "markdown",
      "metadata": {
        "id": "kSGzgNb2Womz"
      },
      "source": [
        "# Common String Operations\n",
        "A string is an immutable sequence of characters. It can be sliced by index just like a tuple:"
      ]
    },
    {
      "cell_type": "code",
      "metadata": {
        "colab": {
          "base_uri": "https://localhost:8080/"
        },
        "id": "xPojDnm9Oqik",
        "outputId": "576644e2-3c72-41bd-880b-8388f524b1f4"
      },
      "source": [
        "my_str = 'Bienvenido a Algoritmos'\n",
        "print(my_str[8:])"
      ],
      "execution_count": null,
      "outputs": [
        {
          "output_type": "stream",
          "name": "stdout",
          "text": [
            "do a Algoritmos\n"
          ]
        }
      ]
    },
    {
      "cell_type": "markdown",
      "metadata": {
        "id": "wuJYy7tvWtM7"
      },
      "source": [
        "There are many methods associated with strings. We can use string.count() to count the occurrences of a character in a string, use string.find() to return the index of a specific character, and use string.replace() to replace characters"
      ]
    },
    {
      "cell_type": "code",
      "metadata": {
        "colab": {
          "base_uri": "https://localhost:8080/"
        },
        "id": "u9deZq1SOqik",
        "outputId": "79277e90-7ef4-4569-831c-1a8f95bf3e74"
      },
      "source": [
        "print('Contando el numero de e que aparecen en esta sentencia'.count('e'))\n",
        "print('Indice donde aparece por primera vez una e en esta sentencia'.find('e')) #Si no aparece en la sentencia el caracter buscado, el resultado de la funcion es -1\n",
        "print('Todas las a en esta sentencia ahora se vuelven e'.replace('a','e'))"
      ],
      "execution_count": null,
      "outputs": [
        {
          "output_type": "stream",
          "name": "stdout",
          "text": [
            "11\n",
            "5\n",
            "Todes les e en este sentencie ehore se vuelven e\n"
          ]
        }
      ]
    },
    {
      "cell_type": "markdown",
      "metadata": {
        "id": "sJPn3rkvWwHN"
      },
      "source": [
        "The most commonly used method for strings is string.split(). This method will split the string by the indicated character and return a list:"
      ]
    },
    {
      "cell_type": "code",
      "metadata": {
        "colab": {
          "base_uri": "https://localhost:8080/"
        },
        "id": "hbIaFLFHOqik",
        "outputId": "8b21e595-add1-4e64-f15d-7534e61e8d97"
      },
      "source": [
        "Time = '2022-03-14 21:02:00'\n",
        "splited_list = Time.split(' ') #Se divide el string segun el caracter ' ' y cada elemento de la division se almacena en una lista\n",
        "date = splited_list[0]\n",
        "time = splited_list[1]\n",
        "print(date, time)\n",
        "hour = time.split(':')[0] #Se divide el string segun el caracter ':', cada elemento de la division se almacena en una lista y se imprime el elemento en el indice 0\n",
        "print(hour)"
      ],
      "execution_count": null,
      "outputs": [
        {
          "output_type": "stream",
          "name": "stdout",
          "text": [
            "2022-03-14 21:02:00\n",
            "21\n"
          ]
        }
      ]
    },
    {
      "cell_type": "markdown",
      "metadata": {
        "id": "9cJQGk96WyVc"
      },
      "source": [
        "We can replace parts of a string by our variable. This is called string formatting."
      ]
    },
    {
      "cell_type": "code",
      "metadata": {
        "colab": {
          "base_uri": "https://localhost:8080/"
        },
        "id": "-E_rIvv6Oqik",
        "outputId": "d3042e32-b65d-4d0b-8e75-d615b66251e0"
      },
      "source": [
        "my_time = 'Hour: {}, Minute:{}'.format('21','06') #Se le dan valores al string por medio de la funcion format()\n",
        "print(my_time)"
      ],
      "execution_count": null,
      "outputs": [
        {
          "output_type": "stream",
          "name": "stdout",
          "text": [
            "Hour: 21, Minute:06\n"
          ]
        }
      ]
    },
    {
      "cell_type": "markdown",
      "metadata": {
        "id": "1_NbVldpWzAs"
      },
      "source": [
        "Another way to format a string is to use the % symbol."
      ]
    },
    {
      "cell_type": "code",
      "metadata": {
        "colab": {
          "base_uri": "https://localhost:8080/"
        },
        "id": "4rZ4rkD2Oqik",
        "outputId": "e9a96a77-7408-4706-816f-2dcfa6087a59"
      },
      "source": [
        "print('El numero pi es %f' %3.14)\n",
        "print('%s a %s'%('Bienvenido','Algoritmos'))"
      ],
      "execution_count": null,
      "outputs": [
        {
          "output_type": "stream",
          "name": "stdout",
          "text": [
            "El numero pi es 3.140000\n",
            "Bienvenido a Algoritmos\n"
          ]
        }
      ]
    },
    {
      "cell_type": "markdown",
      "metadata": {
        "id": "v_5cocrDW3MN"
      },
      "source": [
        "# Summary\n",
        "\n",
        "Weave seen the basic data types and data structures in Python. It's important to keep practicing to become familiar with these data structures. In the next tutorial, we will cover for and while loops and logical operations in Python."
      ]
    },
    {
      "cell_type": "markdown",
      "metadata": {
        "id": "QL6dNxwCXNEt"
      },
      "source": [
        "<div align=\"center\">\n",
        "<img style=\"display: block; margin: auto;\" alt=\"photo\" src=\"https://cdn.quantconnect.com/web/i/icon.png\">\n",
        "\n",
        "Quantconnect\n",
        "\n",
        "Introduction to Financial Python\n",
        "</div>\n",
        "\n",
        "# 02 Logical Operations and Loops\n",
        "\n",
        "# Introduction\n",
        "We discussed the basic data types and data structures in Python in the last tutorial. This chapter covers logical operations and loops in Python, which are very common in programming.\n",
        "\n",
        "# Logical Operations\n",
        "Like most programming languages, Python has comparison operators:"
      ]
    },
    {
      "cell_type": "code",
      "metadata": {
        "colab": {
          "base_uri": "https://localhost:8080/"
        },
        "id": "70Guys_rOv7a",
        "outputId": "dbe18244-b126-4678-a7b4-f397bf82143f"
      },
      "source": [
        "#Operadores de comparacion retornan un valor de tipo boolean\n",
        "print(1 == 0)\n",
        "print(1 == 1)\n",
        "print(1 != 0)\n",
        "print(5 >= 5)\n",
        "print(5 >= 6)"
      ],
      "execution_count": null,
      "outputs": [
        {
          "output_type": "stream",
          "name": "stdout",
          "text": [
            "False\n",
            "True\n",
            "True\n",
            "True\n",
            "False\n"
          ]
        }
      ]
    },
    {
      "cell_type": "markdown",
      "metadata": {
        "id": "8aFHYDj-YTXt"
      },
      "source": [
        "Each statement above has a boolean value, which must be either True or False, but not both.\n",
        "\n",
        "We can combine simple statements P and Q to form complex statements using logical operators:\n",
        "\n",
        "- The statement \"P and Q\" is true if both P and Q are true, otherwise it is false.\n",
        "- The statement \"P or Q\" is false if both P and Q are false, otherwise it is true.\n",
        "- The statement \"not P\" is true if P is false, and vice versa."
      ]
    },
    {
      "cell_type": "code",
      "metadata": {
        "colab": {
          "base_uri": "https://localhost:8080/"
        },
        "id": "O5YEEcUbOv7d",
        "outputId": "ecb5e2ff-17a2-47ed-a1a7-9dc09421bce4"
      },
      "source": [
        "#Operadores logicos and, or y not\n",
        "print(2 > 1 and 3 > 2)\n",
        "print(2 > 1 and 3 < 2) \n",
        "print(2 > 1 or 3 < 2)\n",
        "print( not (2 < 1 and 3 < 2))"
      ],
      "execution_count": null,
      "outputs": [
        {
          "output_type": "stream",
          "name": "stdout",
          "text": [
            "True\n",
            "False\n",
            "True\n",
            "True\n"
          ]
        }
      ]
    },
    {
      "cell_type": "markdown",
      "metadata": {
        "id": "Dy7yzoSXYXmL"
      },
      "source": [
        "When dealing with a very complex logical statement that involves in several statements, we can use brackets to separate and combine them."
      ]
    },
    {
      "cell_type": "code",
      "metadata": {
        "colab": {
          "base_uri": "https://localhost:8080/"
        },
        "id": "QZ-W2xJZOv7d",
        "outputId": "cc01998d-381d-4250-e560-520a6acee1f1"
      },
      "source": [
        "print((3 > 2 or 1 < 3) and (1!=3 and 4>3) and not ( 3 < 2 or 1 < 3 and (1!=3 and 4>3)))\n",
        "print(3 > 2 or 1 < 3 and (1!=3 and 4>3) and not ( 3 < 2 or 1 < 3 and (1!=3 and 4>3)))\n",
        "print(True or False and False) #La expresion en la funcion print() es equivalente a: True or (False and False)"
      ],
      "execution_count": null,
      "outputs": [
        {
          "output_type": "stream",
          "name": "stdout",
          "text": [
            "False\n",
            "True\n",
            "True\n"
          ]
        }
      ]
    },
    {
      "cell_type": "markdown",
      "metadata": {
        "id": "s95xoRYMYaPD"
      },
      "source": [
        "Comparing the above two statements, we can see that it's wise to use brackets when we make a complex logical statement.\n",
        "\n",
        "# If Statement\n",
        "An if statement executes a segment of code only if its condition is true. A standard if statement consists of 3 segments: if, elif and else."
      ]
    },
    {
      "cell_type": "markdown",
      "metadata": {
        "id": "aRzMMitAaBOL"
      },
      "source": [
        "```python\n",
        "if statement1:\n",
        "    # if the statement1 is true, execute the code here.\n",
        "    # code.....\n",
        "    # code.....\n",
        "elif statement2:\n",
        "    # if the statement 1 is false, skip the codes above to this part.\n",
        "    # code......\n",
        "    # code......\n",
        "else:\n",
        "    # if none of the above statements is True, skip to this part\n",
        "    # code......\n",
        "```"
      ]
    },
    {
      "cell_type": "markdown",
      "metadata": {
        "id": "l59R2AS8aH2K"
      },
      "source": [
        "An if statement doesn't necessarily has elif and else part. If it's not specified, the indented block of code will be executed when the condition is true, otherwise the whole if statement will be skipped."
      ]
    },
    {
      "cell_type": "code",
      "metadata": {
        "colab": {
          "base_uri": "https://localhost:8080/"
        },
        "id": "FZ5GoTXfOv7e",
        "outputId": "1a4da91f-af15-46c0-d395-124873947566"
      },
      "source": [
        "#Se puede hacer una sentencia if sin colocar necesariamente elif y else.\n",
        "i = 0\n",
        "if i == 0:\n",
        "    print('i==0 is True')"
      ],
      "execution_count": 145,
      "outputs": [
        {
          "output_type": "stream",
          "name": "stdout",
          "text": [
            "i==0 is True\n"
          ]
        }
      ]
    },
    {
      "cell_type": "markdown",
      "metadata": {
        "id": "nPNW-l5eaJn8"
      },
      "source": [
        "As we mentioned above, we can write some complex statements here:"
      ]
    },
    {
      "cell_type": "code",
      "metadata": {
        "colab": {
          "base_uri": "https://localhost:8080/"
        },
        "id": "gh-U6nMzOv7e",
        "outputId": "4ed6fc71-09f4-4ef0-815f-61a5b8928d9b"
      },
      "source": [
        "p = 1 > 0 # p = True\n",
        "q = 2 > 3 # q = False\n",
        "if p and q:\n",
        "    print('p and q is true')\n",
        "elif p and not q:\n",
        "    print('q is false')\n",
        "elif q and not p:\n",
        "    print('p is false')\n",
        "else:\n",
        "    print('None of p and q is true')"
      ],
      "execution_count": null,
      "outputs": [
        {
          "output_type": "stream",
          "name": "stdout",
          "text": [
            "q is false\n"
          ]
        }
      ]
    },
    {
      "cell_type": "markdown",
      "metadata": {
        "id": "tgRDwiAsaMOL"
      },
      "source": [
        "# Loop Structure\n",
        "Loops are an essential part of programming. The \"for\" and \"while\" loops run a block of code repeatedly.\n",
        "\n",
        "## While Loop\n",
        "A \"while\" loop will run repeatedly until a certain condition has been met."
      ]
    },
    {
      "cell_type": "code",
      "metadata": {
        "colab": {
          "base_uri": "https://localhost:8080/"
        },
        "id": "uQLau8d5Ov7f",
        "outputId": "e27e1577-ad4f-414a-8f73-1bc88d96861d"
      },
      "source": [
        "i = 0\n",
        "while i < 5: #El bloque de codigo en el bucle se ejecuta siempre que i<5 sea verdad\n",
        "    print(i)\n",
        "    i += 1"
      ],
      "execution_count": null,
      "outputs": [
        {
          "output_type": "stream",
          "name": "stdout",
          "text": [
            "0\n",
            "1\n",
            "2\n",
            "3\n",
            "4\n"
          ]
        }
      ]
    },
    {
      "cell_type": "markdown",
      "metadata": {
        "id": "ydLddFAPaTOE"
      },
      "source": [
        "When making a while loop, we need to ensure that something changes from iteration to iteration so that the while loop will terminate, otherwise, it will run forever. Here we used i += 1 (short for i = i + 1) to make i larger after each iteration. This is the most commonly used method to control a while loop.\n",
        "\n",
        "## For Loop\n",
        "A \"for\" loop will iterate over a sequence of value and terminate when the sequence has ended."
      ]
    },
    {
      "cell_type": "code",
      "metadata": {
        "colab": {
          "base_uri": "https://localhost:8080/"
        },
        "id": "kt8Ie8u1Ov7f",
        "outputId": "f446982d-fc1b-43fe-994a-50b59394c3b4"
      },
      "source": [
        "for i in [1,2,3,4,5]: #El bucle for hace una iteracion por cada elemento de la lista y modifica el valor de i deacuerdo al elemento\n",
        "    print(i)"
      ],
      "execution_count": null,
      "outputs": [
        {
          "output_type": "stream",
          "name": "stdout",
          "text": [
            "1\n",
            "2\n",
            "3\n",
            "4\n",
            "5\n"
          ]
        }
      ]
    },
    {
      "cell_type": "markdown",
      "metadata": {
        "id": "yWStqpreaX-T"
      },
      "source": [
        "We can also add if statements in a for loop. Here is a real example from our pairs trading algorithm:"
      ]
    },
    {
      "cell_type": "code",
      "metadata": {
        "colab": {
          "base_uri": "https://localhost:8080/"
        },
        "id": "kElmffvFOv7f",
        "outputId": "345eca5e-451d-423e-fc41-12ff3d0f5fa6"
      },
      "source": [
        "stocks = ['AAPL','GOOG','IBM','FB','F','V', 'G', 'GE']\n",
        "selected = ['AAPL','IBM']\n",
        "new_list = []\n",
        "for i in stocks: #Se añaden a la lista new_list los elementos que estan en la lista stocks y no estan en selected\n",
        "    if i not in selected:\n",
        "        new_list.append(i)\n",
        "print(new_list)"
      ],
      "execution_count": null,
      "outputs": [
        {
          "output_type": "stream",
          "name": "stdout",
          "text": [
            "['GOOG', 'FB', 'F', 'V', 'G', 'GE']\n"
          ]
        }
      ]
    },
    {
      "cell_type": "markdown",
      "metadata": {
        "id": "wb2hry9dahE0"
      },
      "source": [
        "Here we iterated all the elements in the list 'stocks'. Later in this chapter, we will introduce a smarter way to do this, which is just a one-line code.\n",
        "\n",
        "## Break and continue\n",
        "These are two commonly used commands in a for loop. If \"break\" is triggered while a loop is executing, the loop will terminate immediately:"
      ]
    },
    {
      "cell_type": "code",
      "metadata": {
        "colab": {
          "base_uri": "https://localhost:8080/"
        },
        "id": "yF5wMVItOv7g",
        "outputId": "1f5e613a-0298-483e-f07f-1cb74226fa3b"
      },
      "source": [
        "stocks = ['AAPL','GOOG','IBM','FB','F','V', 'G', 'GE']\n",
        "for i in stocks:\n",
        "    print(i)\n",
        "    if i == 'FB': #Finalizar el bucle si se encuentra en la iteracion en que i == 'FB'\n",
        "        break"
      ],
      "execution_count": null,
      "outputs": [
        {
          "output_type": "stream",
          "name": "stdout",
          "text": [
            "AAPL\n",
            "GOOG\n",
            "IBM\n",
            "FB\n"
          ]
        }
      ]
    },
    {
      "cell_type": "markdown",
      "metadata": {
        "id": "R0toxyp3ao0T"
      },
      "source": [
        "The \"continue\" command tells the loop to end this iteration and skip to the next iteration:"
      ]
    },
    {
      "cell_type": "code",
      "metadata": {
        "colab": {
          "base_uri": "https://localhost:8080/"
        },
        "id": "Stg-CH6IOv7g",
        "outputId": "05c91663-1671-424e-d6e0-bcce31493728"
      },
      "source": [
        "stocks = ['AAPL','GOOG','IBM','FB','F','V', 'G', 'GE']\n",
        "for i in stocks:\n",
        "    if i == 'FB': #Si se encuentra en la iteracion donde i = 'FB', terminar la iteracion para no realizar el print(i) y continuar con la iteracion del siguiente elemento\n",
        "        continue\n",
        "    print(i)"
      ],
      "execution_count": null,
      "outputs": [
        {
          "output_type": "stream",
          "name": "stdout",
          "text": [
            "AAPL\n",
            "GOOG\n",
            "IBM\n",
            "F\n",
            "V\n",
            "G\n",
            "GE\n"
          ]
        }
      ]
    },
    {
      "cell_type": "markdown",
      "metadata": {
        "id": "4NusvdhBaxpZ"
      },
      "source": [
        "# List Comprehension\n",
        "List comprehension is a Pythonic way to create lists. Common applications are to make new lists where each element is the result of some operations applied to each member of another sequence. For example, if we want to create a list of squares using for loop:"
      ]
    },
    {
      "cell_type": "code",
      "metadata": {
        "colab": {
          "base_uri": "https://localhost:8080/"
        },
        "id": "bdxxeOABOv7h",
        "outputId": "c0ada0af-0fdd-4db3-f486-6af8b48504d8"
      },
      "source": [
        "squares = []\n",
        "for i in [6,7,8,9,10]:\n",
        "    squares.append(i**2)\n",
        "print(squares)"
      ],
      "execution_count": 143,
      "outputs": [
        {
          "output_type": "stream",
          "name": "stdout",
          "text": [
            "[36, 49, 64, 81, 100]\n"
          ]
        }
      ]
    },
    {
      "cell_type": "markdown",
      "metadata": {
        "id": "--KliJBOa1CC"
      },
      "source": [
        "Using list comprehension:"
      ]
    },
    {
      "cell_type": "code",
      "metadata": {
        "colab": {
          "base_uri": "https://localhost:8080/"
        },
        "id": "440-yjG8Ov7h",
        "outputId": "74f7985a-bebe-4a02-919a-8a2ba156f468"
      },
      "source": [
        "list = [6,7,8,9,10]\n",
        "squares = [x**2 for x in list] #por medio de comprensión de listas, la lista squares contiene el cuadrado de los elementos en list\n",
        "print(squares)"
      ],
      "execution_count": 144,
      "outputs": [
        {
          "output_type": "stream",
          "name": "stdout",
          "text": [
            "[36, 49, 64, 81, 100]\n"
          ]
        }
      ]
    },
    {
      "cell_type": "markdown",
      "metadata": {
        "id": "uMuCfR3ya3zT"
      },
      "source": [
        "Recall the example above where we used a for loop to select stocks. Here we use list comprehension:"
      ]
    },
    {
      "cell_type": "code",
      "metadata": {
        "colab": {
          "base_uri": "https://localhost:8080/"
        },
        "id": "ZGtCtog2Ov7h",
        "outputId": "640733d9-becf-4e4d-8464-d10b4df3f71a"
      },
      "source": [
        "stocks = ['AAPL','GOOG','IBM','FB','F','V', 'G', 'GE']\n",
        "selected = ['AAPL','IBM']\n",
        "new_list = [x for x in stocks if x in selected] #Se añaden a new_list los elementos que estan en stocks y estan en selected\n",
        "print(new_list)"
      ],
      "execution_count": null,
      "outputs": [
        {
          "output_type": "stream",
          "name": "stdout",
          "text": [
            "['AAPL', 'IBM']\n"
          ]
        }
      ]
    },
    {
      "cell_type": "markdown",
      "metadata": {
        "id": "EPeUv6Lia5oD"
      },
      "source": [
        "A list comprehension consists of square brackets containing an expression followed by a \"for\" clause, and possibly \"for\" or \"if\" clauses. For example:"
      ]
    },
    {
      "cell_type": "code",
      "metadata": {
        "colab": {
          "base_uri": "https://localhost:8080/"
        },
        "id": "O1AMB5d7Ov7i",
        "outputId": "5a525a63-8202-4855-bd1a-23f1a81b6f3b"
      },
      "source": [
        "print([(x, y) for x in [1,2,3] for y in [3,1,4] if x != y]) #Imprime una lista con las parejas de numeros (x,y) donde x != y\n",
        "print([str(x)+' vs '+str(y) for x in ['AAPL','GOOG','IBM','FB'] for y in ['F','V','G','GE'] if x!=y]) #Imprime una lista con las cadenas 'x vs y', donde x != y"
      ],
      "execution_count": null,
      "outputs": [
        {
          "output_type": "stream",
          "name": "stdout",
          "text": [
            "[(1, 3), (1, 4), (2, 3), (2, 1), (2, 4), (3, 1), (3, 4)]\n",
            "['AAPL vs F', 'AAPL vs V', 'AAPL vs G', 'AAPL vs GE', 'GOOG vs F', 'GOOG vs V', 'GOOG vs G', 'GOOG vs GE', 'IBM vs F', 'IBM vs V', 'IBM vs G', 'IBM vs GE', 'FB vs F', 'FB vs V', 'FB vs G', 'FB vs GE']\n"
          ]
        }
      ]
    },
    {
      "cell_type": "markdown",
      "metadata": {
        "id": "jJpvq-o4a8P7"
      },
      "source": [
        "List comprehension is an elegant way to organize one or more for loops when creating a list.\n",
        "\n",
        "# Summary\n",
        "This chapter has introduced logical operations, loops, and list comprehension. In the next chapter, we will introduce functions and object-oriented programming, which will enable us to make our codes clean and versatile."
      ]
    },
    {
      "cell_type": "markdown",
      "metadata": {
        "id": "Tef_X2wJbdhn"
      },
      "source": [
        "<div align=\"center\">\n",
        "<img style=\"display: block; margin: auto;\" alt=\"photo\" src=\"https://cdn.quantconnect.com/web/i/icon.png\">\n",
        "\n",
        "Quantconnect\n",
        "\n",
        "Introduction to Financial Python\n",
        "</div>\n",
        "\n",
        "# 03 Functions and Objective-Oriented Programming\n",
        "\n",
        "# Introduction\n",
        "\n",
        "In the last tutorial we introduced logical operations, loops and list comprehension. We will introduce functions and object-oriented programming in this chapter, which will enable us to build complex algorithms in more flexible ways.\n",
        "\n",
        "# Functions\n",
        "A function is a reusable block of code. We can use a function to output a value, or do anything else we want. We can easily define our own function by using the keyword \"def\"."
      ]
    },
    {
      "cell_type": "code",
      "metadata": {
        "colab": {
          "base_uri": "https://localhost:8080/"
        },
        "id": "eE_NkTiSO2PO",
        "outputId": "75fa5e7b-3864-4510-b19a-c2ca4c2fd631"
      },
      "source": [
        "def product(x,y): #La funcion product tiene como parametros la variable x y la variable y, y retorna el valor de la operacion x*y\n",
        "    return x*y\n",
        "print(product('a',3)) #En el caso de un string y un numero entero, la funcion retorna el string concatenado con si mismo la cantidad de veces que indique el numero\n",
        "print(product(5,10))"
      ],
      "execution_count": 147,
      "outputs": [
        {
          "output_type": "stream",
          "name": "stdout",
          "text": [
            "aaa\n",
            "50\n"
          ]
        }
      ]
    },
    {
      "cell_type": "markdown",
      "metadata": {
        "id": "4oRU_dVJbsdD"
      },
      "source": [
        "The keyword \"def\" is followed by the function name and the parenthesized list of formal parameters. The statements that form the body of the function start at the next line, and must be indented. The product() function above has \"x\" and \"y\" as its parameters. A function doesn't necessarily have parameters:"
      ]
    },
    {
      "cell_type": "code",
      "metadata": {
        "colab": {
          "base_uri": "https://localhost:8080/"
        },
        "id": "JhdWVLbUO2PQ",
        "outputId": "0fa84600-b99a-43c8-893d-c8ed10d13cc1"
      },
      "source": [
        "def say_hi(): #Al llamar la funcion se imprime un saludo\n",
        "    print('Bienvenid@s a Algoritmos')\n",
        "say_hi()"
      ],
      "execution_count": 146,
      "outputs": [
        {
          "output_type": "stream",
          "name": "stdout",
          "text": [
            "Bienvenid@s a Algoritmos\n"
          ]
        }
      ]
    },
    {
      "cell_type": "markdown",
      "metadata": {
        "id": "lHwqVpWVb1Jr"
      },
      "source": [
        "# Built-in Function\n",
        "**range()** is a function that creates a list containing an arithmetic sequence. It's often used in for loops. The arguments must be integers. If the \"step\" argument is omitted, it defaults to 1."
      ]
    },
    {
      "cell_type": "code",
      "metadata": {
        "colab": {
          "base_uri": "https://localhost:8080/"
        },
        "id": "VVOTELcIO2PQ",
        "outputId": "9a3bccf7-5038-49ff-9369-6e30d18f1628"
      },
      "source": [
        "print(range(10))\n",
        "print(range(1,11))\n",
        "print(range(1,11,2))"
      ],
      "execution_count": null,
      "outputs": [
        {
          "output_type": "stream",
          "name": "stdout",
          "text": [
            "range(0, 10)\n",
            "range(1, 11)\n",
            "range(1, 11, 2)\n"
          ]
        }
      ]
    },
    {
      "cell_type": "markdown",
      "metadata": {
        "id": "PD0cSgiwcQ4L"
      },
      "source": [
        "**len()** is another function used together with range() to create a for loop. This function returns the length of an object. The argument must be a sequence or a collection."
      ]
    },
    {
      "cell_type": "code",
      "metadata": {
        "colab": {
          "base_uri": "https://localhost:8080/"
        },
        "id": "Hg18c7v-O2PR",
        "outputId": "c6fcc29f-2563-4fd2-f772-5380ec5d0262"
      },
      "source": [
        "#Imprimir la longitud de la lista tickers y cada uno de los elementos en la lista\n",
        "tickers = ['AAPL','GOOG','IBM','FB','F','V', 'G', 'GE']\n",
        "print('La longitud de tickers es {}'.format(len(tickers)))\n",
        "for i in range(len(tickers)):\n",
        "    print(tickers[i])"
      ],
      "execution_count": null,
      "outputs": [
        {
          "output_type": "stream",
          "name": "stdout",
          "text": [
            "La longitud de tickers es 8\n",
            "AAPL\n",
            "GOOG\n",
            "IBM\n",
            "FB\n",
            "F\n",
            "V\n",
            "G\n",
            "GE\n"
          ]
        }
      ]
    },
    {
      "cell_type": "markdown",
      "metadata": {
        "id": "OIQSuub1cWgi"
      },
      "source": [
        "Note: If you want to print only the tickers without those numbers, then simply write \"for ticker in tickers: print ticker\"\n",
        "\n",
        "**map(**) is a function that applies a specific function to every item of a sequence or collection, and returns a list of the results."
      ]
    },
    {
      "cell_type": "markdown",
      "metadata": {
        "id": "pqPuspeG5HAi"
      },
      "source": [
        "Because list at the moment is [1,2,3,4,5] and overwriting list() from builtins we del list"
      ]
    },
    {
      "cell_type": "code",
      "metadata": {
        "colab": {
          "base_uri": "https://localhost:8080/"
        },
        "id": "caV9c-qk4_eZ",
        "outputId": "9ac63f40-e61b-4637-d97e-350a3384515b"
      },
      "source": [
        "print(list)\n",
        "del list #Instruccion para eliminar el objeto en la variable list\n",
        "list"
      ],
      "execution_count": null,
      "outputs": [
        {
          "output_type": "stream",
          "name": "stdout",
          "text": [
            "[1, 2, 3, 4, 5]\n"
          ]
        },
        {
          "output_type": "execute_result",
          "data": {
            "text/plain": [
              "list"
            ]
          },
          "metadata": {},
          "execution_count": 102
        }
      ]
    },
    {
      "cell_type": "code",
      "metadata": {
        "colab": {
          "base_uri": "https://localhost:8080/"
        },
        "id": "lJBs5ECT4mSq",
        "outputId": "885e7cbd-46cf-4c69-cbff-a068da46b949"
      },
      "source": [
        "tickers = ['AAPL','GOOG','IBM','FB','F','V', 'G', 'GE']\n",
        "list(map(len,tickers))"
      ],
      "execution_count": null,
      "outputs": [
        {
          "output_type": "execute_result",
          "data": {
            "text/plain": [
              "[4, 4, 3, 2, 1, 1, 1, 2]"
            ]
          },
          "metadata": {},
          "execution_count": 103
        }
      ]
    },
    {
      "cell_type": "code",
      "metadata": {
        "colab": {
          "base_uri": "https://localhost:8080/"
        },
        "id": "78DyKVOyO2PR",
        "outputId": "af9d002b-d81c-4f95-b5f9-5fbecc2038b2"
      },
      "source": [
        "#Almacenar en una lista el tamaño de las palabras en la lista tickers e imprimirla\n",
        "tickers = ['AAPL','GOOG','IBM','FB','F','V', 'G', 'GE']\n",
        "print(list(map(len,tickers)))"
      ],
      "execution_count": null,
      "outputs": [
        {
          "output_type": "stream",
          "name": "stdout",
          "text": [
            "[4, 4, 3, 2, 1, 1, 1, 2]\n"
          ]
        }
      ]
    },
    {
      "cell_type": "markdown",
      "metadata": {
        "id": "mvr06UM7ca7b"
      },
      "source": [
        "The **lambda operator** is a way to create small anonymous functions. These functions are just needed where they have been created. For example:"
      ]
    },
    {
      "cell_type": "code",
      "metadata": {
        "colab": {
          "base_uri": "https://localhost:8080/"
        },
        "id": "pAEHADYXO2PR",
        "outputId": "ed13fbe9-78c9-431c-9966-94da42e97563"
      },
      "source": [
        "list(map(lambda x: x**2, range(10))) #Crear lista con los cuadrados de los numeros de 0 a 9"
      ],
      "execution_count": null,
      "outputs": [
        {
          "output_type": "execute_result",
          "data": {
            "text/plain": [
              "[0, 1, 4, 9, 16, 25, 36, 49, 64, 81]"
            ]
          },
          "metadata": {},
          "execution_count": 107
        }
      ]
    },
    {
      "cell_type": "markdown",
      "metadata": {
        "id": "Mgixpxomcj3T"
      },
      "source": [
        "map() can be applied to more than one list. The lists have to have the same length."
      ]
    },
    {
      "cell_type": "code",
      "metadata": {
        "colab": {
          "base_uri": "https://localhost:8080/"
        },
        "id": "HtckhAaJO2PS",
        "outputId": "d5e1055d-375c-458e-a927-877708d3bb8c"
      },
      "source": [
        "list(map(lambda x, y: x+y, [1,2,3,4,5],[5,4,3,2,1])) #Lista con la suma de los elementos en la misma posición de cada lista"
      ],
      "execution_count": null,
      "outputs": [
        {
          "output_type": "execute_result",
          "data": {
            "text/plain": [
              "[6, 6, 6, 6, 6]"
            ]
          },
          "metadata": {},
          "execution_count": 109
        }
      ]
    },
    {
      "cell_type": "markdown",
      "metadata": {
        "id": "ZDnMTH-KcklT"
      },
      "source": [
        "**sorted()** takes a list or set and returns a new sorted list"
      ]
    },
    {
      "cell_type": "code",
      "metadata": {
        "colab": {
          "base_uri": "https://localhost:8080/"
        },
        "id": "P0sHUMFWO2PS",
        "outputId": "89edf338-4823-48b3-84f1-81ee0bff1007"
      },
      "source": [
        "sorted([5,2,3,4,1])"
      ],
      "execution_count": null,
      "outputs": [
        {
          "output_type": "execute_result",
          "data": {
            "text/plain": [
              "[1, 2, 3, 4, 5]"
            ]
          },
          "metadata": {},
          "execution_count": 110
        }
      ]
    },
    {
      "cell_type": "markdown",
      "metadata": {
        "id": "-N5_EDOFcnsc"
      },
      "source": [
        "We can add a \"key\" parameter to specify a function to be called on each list element prior to making comparisons. For example:"
      ]
    },
    {
      "cell_type": "code",
      "metadata": {
        "colab": {
          "base_uri": "https://localhost:8080/"
        },
        "id": "0i3peZ0bO2PS",
        "outputId": "9983daf7-279c-4c2b-c305-785a89f88b25"
      },
      "source": [
        "#Retorna una nueva lista con los elementos de price_list organizados de mayor a menor segun el numero en cada elemento\n",
        "price_list = [('AAPL',144.09),('GOOG',911.71),('MSFT',69),('FB',150),('WMT',75.32)]\n",
        "sorted(price_list, key = lambda x: x[1])"
      ],
      "execution_count": null,
      "outputs": [
        {
          "output_type": "execute_result",
          "data": {
            "text/plain": [
              "[('MSFT', 69), ('WMT', 75.32), ('AAPL', 144.09), ('FB', 150), ('GOOG', 911.71)]"
            ]
          },
          "metadata": {},
          "execution_count": 111
        }
      ]
    },
    {
      "cell_type": "markdown",
      "metadata": {
        "id": "yun2zptKcxe_"
      },
      "source": [
        "By default the values are sorted by ascending order. We can change it to descending by adding an optional parameter \"reverse'."
      ]
    },
    {
      "cell_type": "code",
      "metadata": {
        "colab": {
          "base_uri": "https://localhost:8080/"
        },
        "id": "dEZqdl94O2PT",
        "outputId": "ebd5e319-ce4d-4e0d-b783-3f383cfe161b"
      },
      "source": [
        "price_list = [('AAPL',144.09),('GOOG',911.71),('MSFT',69),('FB',150),('WMT',75.32)]\n",
        "sorted(price_list, key = lambda x: x[1],reverse = True)"
      ],
      "execution_count": null,
      "outputs": [
        {
          "output_type": "execute_result",
          "data": {
            "text/plain": [
              "[('GOOG', 911.71), ('FB', 150), ('AAPL', 144.09), ('WMT', 75.32), ('MSFT', 69)]"
            ]
          },
          "metadata": {},
          "execution_count": 112
        }
      ]
    },
    {
      "cell_type": "markdown",
      "metadata": {
        "id": "OA2wYAa0c6Dn"
      },
      "source": [
        "Lists also have a function list.sort(). This function takes the same \"key\" and \"reverse\" arguments as sorted(), but it doesn't return a new list."
      ]
    },
    {
      "cell_type": "code",
      "metadata": {
        "colab": {
          "base_uri": "https://localhost:8080/"
        },
        "id": "pG9VQCLnO2PT",
        "outputId": "4f4764e5-0393-44a9-d58a-400e259732e5"
      },
      "source": [
        "#Organiza los elementos price_list de mayor a menor segun el numero en cada elemento\n",
        "price_list = [('AAPL',144.09),('GOOG',911.71),('MSFT',69),('FB',150),('WMT',75.32)]\n",
        "price_list.sort(key = lambda x: x[1])\n",
        "print(price_list)"
      ],
      "execution_count": null,
      "outputs": [
        {
          "output_type": "stream",
          "name": "stdout",
          "text": [
            "[('MSFT', 69), ('WMT', 75.32), ('AAPL', 144.09), ('FB', 150), ('GOOG', 911.71)]\n"
          ]
        }
      ]
    },
    {
      "cell_type": "markdown",
      "metadata": {
        "id": "mxljL1W1c_c5"
      },
      "source": [
        "# Object-Oriented Programming\n",
        "Python is an object-oriented programming language. It's important to understand the concept of \"objects\" because almost every kind of data from QuantConnect API is an object.\n",
        "\n",
        "## Class\n",
        "A class is a type of data, just like a string, float, or list. When we create an object of that data type, we call it an instance of a class.\n",
        "\n",
        "In Python, everything is an object - everything is an instance of some class. The data stored inside an object are called attributes, and the functions which are associated with the object are called methods.\n",
        "\n",
        "For example, as mentioned above, a list is an object of the \"list\" class, and it has a method list.sort().\n",
        "\n",
        "We can create our own objects by defining a class. We would do this when it's helpful to group certain functions together. For example, we define a class named \"Stock\" here:"
      ]
    },
    {
      "cell_type": "code",
      "metadata": {
        "id": "zC4Y4PgDO2PT"
      },
      "source": [
        "class stock:\n",
        "    def __init__(self, ticker, open, close, volume):\n",
        "        self.ticker = ticker\n",
        "        self.open = open\n",
        "        self.close = close\n",
        "        self.volume = volume\n",
        "        self.rate_return = float(close)/open - 1\n",
        " \n",
        "    def update(self, open, close):\n",
        "        self.open = open\n",
        "        self.close = close\n",
        "        self.rate_return = float(self.close)/self.open - 1\n",
        " \n",
        "    def print_return(self):\n",
        "        print(self.rate_return)"
      ],
      "execution_count": null,
      "outputs": []
    },
    {
      "cell_type": "markdown",
      "metadata": {
        "id": "rV06INT5dETi"
      },
      "source": [
        "The \"Stock\" class has attributes \"ticker\", \"open\", \"close\", \"volume\" and \"rate_return\". Inside the class body, the first method is called __init__, which is a special method. When we create a new instance of the class, the __init__ method is immediately executed with all the parameters that we pass to the \"Stock\" object. The purpose of this method is to set up a new \"Stock\" object using data we have provided.\n",
        "\n",
        "Here we create two Stock objects named \"apple\" and \"google\"."
      ]
    },
    {
      "cell_type": "code",
      "metadata": {
        "id": "8tIpNk93O2PU"
      },
      "source": [
        "apple = stock('AAPL', 143.69, 144.09, 20109375)\n",
        "google = stock('GOOG', 898.7, 911.7, 1561616)"
      ],
      "execution_count": null,
      "outputs": []
    },
    {
      "cell_type": "markdown",
      "metadata": {
        "id": "VxmELNiHdPKS"
      },
      "source": [
        "Stock objects also have two other methods: update() and print_return(). We can access the attribues of a Stock object and call its methods:"
      ]
    },
    {
      "cell_type": "code",
      "metadata": {
        "colab": {
          "base_uri": "https://localhost:8080/"
        },
        "id": "SsiIkmekO2PU",
        "outputId": "e462443b-fd5c-40ea-a2d8-ad028059509e"
      },
      "source": [
        "apple.ticker\n",
        "google.print_return()\n",
        "google.update(912.8,913.4)\n",
        "google.print_return()"
      ],
      "execution_count": null,
      "outputs": [
        {
          "output_type": "stream",
          "name": "stdout",
          "text": [
            "0.014465338822744034\n",
            "0.0006573181419806673\n"
          ]
        }
      ]
    },
    {
      "cell_type": "markdown",
      "metadata": {
        "id": "Q8fl7keNdVKF"
      },
      "source": [
        "By calling the update() function, we updated the open and close prices of a stock. Please note that when we use the attributes or call the methods **inside a class**, we need to specify them as self.attribute or self.method(), otherwise Python will deem them as global variables and thus raise an error.\n",
        "\n",
        "We can add an attribute to an object anywhere:"
      ]
    },
    {
      "cell_type": "code",
      "metadata": {
        "colab": {
          "base_uri": "https://localhost:8080/",
          "height": 35
        },
        "id": "rO4OLnqOO2PU",
        "outputId": "78b01ec8-2d95-496a-b6a6-14116f1299b7"
      },
      "source": [
        "apple.ceo = 'Diego Talero'\n",
        "apple.ceo"
      ],
      "execution_count": null,
      "outputs": [
        {
          "output_type": "execute_result",
          "data": {
            "text/plain": [
              "'Diego Talero'"
            ],
            "application/vnd.google.colaboratory.intrinsic+json": {
              "type": "string"
            }
          },
          "metadata": {},
          "execution_count": 119
        }
      ]
    },
    {
      "cell_type": "markdown",
      "metadata": {
        "id": "WyfnFgVidh4J"
      },
      "source": [
        "We can check what names (i.e. attributes and methods) are defined on an object using the dir() function:"
      ]
    },
    {
      "cell_type": "code",
      "metadata": {
        "colab": {
          "base_uri": "https://localhost:8080/"
        },
        "id": "pPoz0LA8O2PU",
        "outputId": "cf2c4cbb-d1c5-477d-9d15-2036950e13b3"
      },
      "source": [
        "dir(apple)"
      ],
      "execution_count": null,
      "outputs": [
        {
          "output_type": "execute_result",
          "data": {
            "text/plain": [
              "['__class__',\n",
              " '__delattr__',\n",
              " '__dict__',\n",
              " '__dir__',\n",
              " '__doc__',\n",
              " '__eq__',\n",
              " '__format__',\n",
              " '__ge__',\n",
              " '__getattribute__',\n",
              " '__gt__',\n",
              " '__hash__',\n",
              " '__init__',\n",
              " '__init_subclass__',\n",
              " '__le__',\n",
              " '__lt__',\n",
              " '__module__',\n",
              " '__ne__',\n",
              " '__new__',\n",
              " '__reduce__',\n",
              " '__reduce_ex__',\n",
              " '__repr__',\n",
              " '__setattr__',\n",
              " '__sizeof__',\n",
              " '__str__',\n",
              " '__subclasshook__',\n",
              " '__weakref__',\n",
              " 'ceo',\n",
              " 'close',\n",
              " 'open',\n",
              " 'print_return',\n",
              " 'rate_return',\n",
              " 'ticker',\n",
              " 'update',\n",
              " 'volume']"
            ]
          },
          "metadata": {},
          "execution_count": 120
        }
      ]
    },
    {
      "cell_type": "markdown",
      "metadata": {
        "id": "Qpemj1UZd2aa"
      },
      "source": [
        "## Inheritance\n",
        "Inheritance is a way of arranging classes in a hierarchy from the most general to the most specific. A \"child\" class is a more specific type of a \"parent\" class because a child class will inherit all the attribues and methods of its parent. For example, we define a class named \"Child\" which inherits \"Stock\":"
      ]
    },
    {
      "cell_type": "code",
      "metadata": {
        "id": "UELXnxomO2PV"
      },
      "source": [
        "#Clase child que hereda de la clase stock\n",
        "class child(stock):\n",
        "    def __init__(self,name):\n",
        "        self.name = name"
      ],
      "execution_count": null,
      "outputs": []
    },
    {
      "cell_type": "code",
      "metadata": {
        "colab": {
          "base_uri": "https://localhost:8080/"
        },
        "id": "ffS2THZyO2PV",
        "outputId": "6c429dde-c72d-4bc7-d4fa-528427b8c2c7"
      },
      "source": [
        "aa = child('Santiago')\n",
        "print(aa.name)\n",
        "aa.update(100,102)\n",
        "print(aa.open)\n",
        "print(aa.close)\n",
        "print(aa.print_return())"
      ],
      "execution_count": null,
      "outputs": [
        {
          "output_type": "stream",
          "name": "stdout",
          "text": [
            "Santiago\n",
            "100\n",
            "102\n",
            "0.020000000000000018\n",
            "None\n"
          ]
        }
      ]
    },
    {
      "cell_type": "markdown",
      "metadata": {
        "id": "pdIEjUv2eJqL"
      },
      "source": [
        "As seen above, the new class Child has inherited the methods from Stock.\n",
        "\n",
        "#Summary\n",
        "\n",
        "In this chapter we have introduced functions and classes. When we write a QuantConnect algorithm, we would define our algorithm as a class (QCAlgorithm). This means our algorithm inherited the QC API methods from QCAlgorithm class.\n",
        "\n",
        "In the next chapter, we will introduce NumPy and Pandas, which enable us to conduct scientific calculations in Python."
      ]
    },
    {
      "cell_type": "markdown",
      "metadata": {
        "id": "dQbENH6mexTd"
      },
      "source": [
        "<div align=\"center\">\n",
        "<img style=\"display: block; margin: auto;\" alt=\"photo\" src=\"https://cdn.quantconnect.com/web/i/icon.png\">\n",
        "\n",
        "Quantconnect\n",
        "\n",
        "Introduction to Financial Python\n",
        "</div>\n",
        "\n",
        "# 04 NumPy and Basic Pandas\n",
        "\n",
        "# Introduction\n",
        "\n",
        "Now that we have introduced the fundamentals of Python, it's time to learn about NumPy and Pandas.\n",
        "\n",
        "# NumPy\n",
        "NumPy is the core library for scientific computing in Python. It provides a high-performance multidimensional array object, and tools for working with these arrays. It also has strong integration with Pandas, which is another powerful tool for manipulating financial data.\n",
        "\n",
        "Python packages like NumPy and Pandas contain classes and methods which we can use by importing the package:"
      ]
    },
    {
      "cell_type": "code",
      "metadata": {
        "id": "aIESp-rdO58h"
      },
      "source": [
        "import numpy as np"
      ],
      "execution_count": null,
      "outputs": []
    },
    {
      "cell_type": "markdown",
      "metadata": {
        "id": "GScHHJ5ke7ea"
      },
      "source": [
        "## Basic NumPy Arrays\n",
        "A NumPy array is a grid of values, all of the same type, and is indexed by a tuple of nonnegative integers. Here we make an array by passing a list of Apple stock prices:"
      ]
    },
    {
      "cell_type": "code",
      "metadata": {
        "colab": {
          "base_uri": "https://localhost:8080/"
        },
        "id": "lZI1wkwDO58i",
        "outputId": "a114abd8-aff1-4ef3-c26a-ef48a524c401"
      },
      "source": [
        "price_list = [143.73, 145.83, 143.68, 144.02, 143.5, 142.62]\n",
        "price_array = np.array(price_list) #Crear price_array que es un arreglo de clase numpy.ndarray de una dimension con los elementos de la lista price_list \n",
        "print(price_array, type(price_array))"
      ],
      "execution_count": null,
      "outputs": [
        {
          "output_type": "stream",
          "name": "stdout",
          "text": [
            "[143.73 145.83 143.68 144.02 143.5  142.62] <class 'numpy.ndarray'>\n"
          ]
        }
      ]
    },
    {
      "cell_type": "markdown",
      "metadata": {
        "id": "-5Yj6u9ifB-t"
      },
      "source": [
        "Notice that the type of array is \"ndarray\" which is a multi-dimensional array. If we pass np.array() a list of lists, it will create a 2-dimensional array."
      ]
    },
    {
      "cell_type": "code",
      "metadata": {
        "colab": {
          "base_uri": "https://localhost:8080/"
        },
        "id": "obvIZrK-O58j",
        "outputId": "20c7413c-7fc1-4698-cda4-d7ff4e537341"
      },
      "source": [
        "Ar = np.array([[1,3],[2,4]]) #Crear Ar que es un arreglo de clase numpy.ndarray de dos dimensiones con los argumentos de la funcion np.array()\n",
        "print(Ar, type(Ar))"
      ],
      "execution_count": null,
      "outputs": [
        {
          "output_type": "stream",
          "name": "stdout",
          "text": [
            "[[1 3]\n",
            " [2 4]] <class 'numpy.ndarray'>\n"
          ]
        }
      ]
    },
    {
      "cell_type": "markdown",
      "metadata": {
        "id": "uDdfLD9HfHkl"
      },
      "source": [
        "We get the dimensions of an ndarray using the .shape attribute:"
      ]
    },
    {
      "cell_type": "code",
      "metadata": {
        "colab": {
          "base_uri": "https://localhost:8080/"
        },
        "id": "G2txdn73O58j",
        "outputId": "c4c63386-de47-482c-966e-e4272043750d"
      },
      "source": [
        "print(Ar.shape)"
      ],
      "execution_count": null,
      "outputs": [
        {
          "output_type": "stream",
          "name": "stdout",
          "text": [
            "(2, 2)\n"
          ]
        }
      ]
    },
    {
      "cell_type": "markdown",
      "metadata": {
        "id": "87W5ueORfPEy"
      },
      "source": [
        "If we create an 2-dimensional array (i.e. matrix), each row can be accessed by index:"
      ]
    },
    {
      "cell_type": "code",
      "metadata": {
        "colab": {
          "base_uri": "https://localhost:8080/"
        },
        "id": "x_QV9aPbO58j",
        "outputId": "65c7e391-ed43-4959-966f-c56832b52d7b"
      },
      "source": [
        "print(Ar[0])\n",
        "print(Ar[1])"
      ],
      "execution_count": null,
      "outputs": [
        {
          "output_type": "stream",
          "name": "stdout",
          "text": [
            "[1 3]\n",
            "[2 4]\n"
          ]
        }
      ]
    },
    {
      "cell_type": "markdown",
      "metadata": {
        "id": "5Hke7Vt-fSGB"
      },
      "source": [
        "If we want to access the matrix by column instead:"
      ]
    },
    {
      "cell_type": "code",
      "metadata": {
        "colab": {
          "base_uri": "https://localhost:8080/"
        },
        "id": "gHVwbPfOO58j",
        "outputId": "18c78440-96c7-41d8-9ba2-eab94373745a"
      },
      "source": [
        "print('the first column: ', Ar[:,0])\n",
        "print('the second column: ', Ar[:,1])"
      ],
      "execution_count": null,
      "outputs": [
        {
          "output_type": "stream",
          "name": "stdout",
          "text": [
            "the first column:  [1 2]\n",
            "the second column:  [3 4]\n"
          ]
        }
      ]
    },
    {
      "cell_type": "markdown",
      "metadata": {
        "id": "T61cD0HMfStB"
      },
      "source": [
        "## Array Functions\n",
        "Some functions built in NumPy that allow us to perform calculations on arrays. For example, we can apply the natural logarithm to each element of an array:"
      ]
    },
    {
      "cell_type": "code",
      "metadata": {
        "colab": {
          "base_uri": "https://localhost:8080/"
        },
        "id": "PKhwtJ7XO58k",
        "outputId": "d5573571-28e5-4f90-d7f9-fd7ddf883b7b"
      },
      "source": [
        "print(np.log(price_array)) #Imprime el valor del logaritmo natural de los valores en el arreglo price_array"
      ],
      "execution_count": null,
      "outputs": [
        {
          "output_type": "stream",
          "name": "stdout",
          "text": [
            "[4.96793654 4.98244156 4.9675886  4.96995218 4.96633504 4.96018375]\n"
          ]
        }
      ]
    },
    {
      "cell_type": "markdown",
      "metadata": {
        "id": "uzjBRFBLfZ-D"
      },
      "source": [
        "Other functions return a single value:"
      ]
    },
    {
      "cell_type": "code",
      "metadata": {
        "colab": {
          "base_uri": "https://localhost:8080/"
        },
        "id": "nQuABZqUO58k",
        "outputId": "e73188b1-0e08-4e13-c0de-bb48172a18e4"
      },
      "source": [
        "print(np.mean(price_array)) #Retorna la media del valor de los elementos en el arreglo\n",
        "print(np.std(price_array)) #Retorna la desviacion estandar calculada con los elementos en el arreglo\n",
        "print(np.sum(price_array)) #Retorna la sumatoria del valor de los elementos en el arreglo\n",
        "print(np.max(price_array)) #Retorna el valor maximo de los elementos en el arreglo"
      ],
      "execution_count": null,
      "outputs": [
        {
          "output_type": "stream",
          "name": "stdout",
          "text": [
            "143.89666666666668\n",
            "0.9673790478515796\n",
            "863.38\n",
            "145.83\n"
          ]
        }
      ]
    },
    {
      "cell_type": "markdown",
      "metadata": {
        "id": "IRW95BsifgDB"
      },
      "source": [
        "The functions above return the mean, standard deviation, total and maximum value of an array.\n",
        "\n",
        "# Pandas\n",
        "Pandas is one of the most powerful tools for dealing with financial data. \n",
        "\n",
        "First we need to import Pandas:"
      ]
    },
    {
      "cell_type": "code",
      "metadata": {
        "id": "xIYH4oUfO58k"
      },
      "source": [
        "import pandas as pd"
      ],
      "execution_count": null,
      "outputs": []
    },
    {
      "cell_type": "markdown",
      "metadata": {
        "id": "zOig5gORfnJU"
      },
      "source": [
        "## Series\n",
        "Series is a one-dimensional labeled array capable of holding any data type (integers, strings, float, Python object, etc.)\n",
        "\n",
        "We create a Series by calling pd.Series(data), where data can be a dictionary, an array or just a scalar value."
      ]
    },
    {
      "cell_type": "code",
      "metadata": {
        "colab": {
          "base_uri": "https://localhost:8080/"
        },
        "id": "JmzoNzrPO58k",
        "outputId": "02233b17-5945-4650-9bd2-ec9b469f1207"
      },
      "source": [
        "price = [143.73, 145.83, 143.68, 144.02, 143.5, 142.62]\n",
        "s = pd.Series(price) #Generar una serie con los valores en la lista price\n",
        "s"
      ],
      "execution_count": null,
      "outputs": [
        {
          "output_type": "execute_result",
          "data": {
            "text/plain": [
              "0    143.73\n",
              "1    145.83\n",
              "2    143.68\n",
              "3    144.02\n",
              "4    143.50\n",
              "5    142.62\n",
              "dtype: float64"
            ]
          },
          "metadata": {},
          "execution_count": 10
        }
      ]
    },
    {
      "cell_type": "markdown",
      "metadata": {
        "id": "tP5iDnunfq46"
      },
      "source": [
        "We can customize the indices of a new Series:"
      ]
    },
    {
      "cell_type": "code",
      "metadata": {
        "colab": {
          "base_uri": "https://localhost:8080/"
        },
        "id": "eswQC3ZPO58l",
        "outputId": "4a1fa54c-8f56-44cf-e0ee-f82e7c79e059"
      },
      "source": [
        "s = pd.Series(price,index = ['u','v','w','x','y','z'])\n",
        "s"
      ],
      "execution_count": null,
      "outputs": [
        {
          "output_type": "execute_result",
          "data": {
            "text/plain": [
              "u    143.73\n",
              "v    145.83\n",
              "w    143.68\n",
              "x    144.02\n",
              "y    143.50\n",
              "z    142.62\n",
              "dtype: float64"
            ]
          },
          "metadata": {},
          "execution_count": 11
        }
      ]
    },
    {
      "cell_type": "markdown",
      "metadata": {
        "id": "wdZrb8pEfuua"
      },
      "source": [
        "Or we can change the indices of an existing Series:"
      ]
    },
    {
      "cell_type": "code",
      "metadata": {
        "colab": {
          "base_uri": "https://localhost:8080/"
        },
        "id": "MwlRnPF6O58l",
        "outputId": "6579768c-fa43-43ff-b141-3ae816f0a6f9"
      },
      "source": [
        "s.index = ['z','y','x','w',2,1] #Los indices en las series pueden ser de distinta clase entre si\n",
        "s"
      ],
      "execution_count": null,
      "outputs": [
        {
          "output_type": "execute_result",
          "data": {
            "text/plain": [
              "z    143.73\n",
              "y    145.83\n",
              "x    143.68\n",
              "w    144.02\n",
              "2    143.50\n",
              "1    142.62\n",
              "dtype: float64"
            ]
          },
          "metadata": {},
          "execution_count": 12
        }
      ]
    },
    {
      "cell_type": "markdown",
      "metadata": {
        "id": "6cGNQZwLfxIz"
      },
      "source": [
        "Series is like a list since it can be sliced by index:"
      ]
    },
    {
      "cell_type": "code",
      "metadata": {
        "colab": {
          "base_uri": "https://localhost:8080/"
        },
        "id": "N9bBSg6cO58l",
        "outputId": "9d726b72-7383-4514-afae-5018d34e5137"
      },
      "source": [
        "print(s[1:])\n",
        "print(s[:-2]) #Imprime todos los elementos de la Series s menos los dos ultimos"
      ],
      "execution_count": null,
      "outputs": [
        {
          "output_type": "stream",
          "name": "stdout",
          "text": [
            "y    145.83\n",
            "x    143.68\n",
            "w    144.02\n",
            "2    143.50\n",
            "1    142.62\n",
            "dtype: float64\n",
            "z    143.73\n",
            "y    145.83\n",
            "x    143.68\n",
            "w    144.02\n",
            "dtype: float64\n"
          ]
        }
      ]
    },
    {
      "cell_type": "markdown",
      "metadata": {
        "id": "5V25nViZfz3Z"
      },
      "source": [
        "Series is also like a dictionary whose values can be set or fetched by index label:"
      ]
    },
    {
      "cell_type": "code",
      "metadata": {
        "colab": {
          "base_uri": "https://localhost:8080/"
        },
        "id": "b3Y0kKGYO58l",
        "outputId": "d85e8074-df99-4e53-bb4c-f9b814bf9306"
      },
      "source": [
        "#Modificar el valor del indice z en la Series s\n",
        "print('Valor inicial indice z en al Series s '+ str(s['z']))\n",
        "s['z'] = 0\n",
        "print(s)"
      ],
      "execution_count": null,
      "outputs": [
        {
          "output_type": "stream",
          "name": "stdout",
          "text": [
            "Valor inicial indice z en al Series s 143.73\n",
            "z      0.00\n",
            "y    145.83\n",
            "x    143.68\n",
            "w    144.02\n",
            "2    143.50\n",
            "1    142.62\n",
            "dtype: float64\n"
          ]
        }
      ]
    },
    {
      "cell_type": "markdown",
      "metadata": {
        "id": "RQ1P7Gkyf060"
      },
      "source": [
        "Series can also have a name attribute, which will be used when we make up a Pandas DataFrame using several series."
      ]
    },
    {
      "cell_type": "code",
      "metadata": {
        "colab": {
          "base_uri": "https://localhost:8080/"
        },
        "id": "ZeD4-p7KO58m",
        "outputId": "1761a458-8704-42d3-d6c9-cef593f03120"
      },
      "source": [
        "s = pd.Series(price, name = 'Lista de precios de manzanas')\n",
        "print(s)\n",
        "print(s.name)"
      ],
      "execution_count": null,
      "outputs": [
        {
          "output_type": "stream",
          "name": "stdout",
          "text": [
            "0    143.73\n",
            "1    145.83\n",
            "2    143.68\n",
            "3    144.02\n",
            "4    143.50\n",
            "5    142.62\n",
            "Name: Lista de precios de manzanas, dtype: float64\n",
            "Lista de precios de manzanas\n"
          ]
        }
      ]
    },
    {
      "cell_type": "markdown",
      "metadata": {
        "id": "geJb1pGHf5Et"
      },
      "source": [
        "We can get the statistical summaries of a Series:"
      ]
    },
    {
      "cell_type": "code",
      "metadata": {
        "colab": {
          "base_uri": "https://localhost:8080/"
        },
        "id": "mGPtFcjegm4i",
        "outputId": "b81ba739-e6ea-472f-b027-b3c3be28831d"
      },
      "source": [
        "print(s.describe()) #Estadisticas sobre la Series s"
      ],
      "execution_count": null,
      "outputs": [
        {
          "output_type": "stream",
          "name": "stdout",
          "text": [
            "count      6.000000\n",
            "mean     119.941667\n",
            "std       58.768675\n",
            "min        0.000000\n",
            "25%      142.840000\n",
            "50%      143.590000\n",
            "75%      143.935000\n",
            "max      145.830000\n",
            "dtype: float64\n"
          ]
        }
      ]
    },
    {
      "cell_type": "markdown",
      "metadata": {
        "id": "LkdZu-CDgvlR"
      },
      "source": [
        "## Time Index\n",
        "Pandas has a built-in function specifically for creating date indices: pd.date_range(). We use it to create a new index for our Series:"
      ]
    },
    {
      "cell_type": "code",
      "metadata": {
        "colab": {
          "base_uri": "https://localhost:8080/"
        },
        "id": "HJe5hU4zO58m",
        "outputId": "1f2dc822-ea69-49b4-fc51-81dde21707d1"
      },
      "source": [
        "time_index = pd.date_range('2022-03-15',periods = len(s),freq = 'D') #Se crea la cantidad de indices con dias consecutivos deacuerdo a la cantidad de elementos en la Series s\n",
        "print(time_index)\n",
        "s.index = time_index #Se le asignan los indices a s\n",
        "print(s)"
      ],
      "execution_count": null,
      "outputs": [
        {
          "output_type": "stream",
          "name": "stdout",
          "text": [
            "DatetimeIndex(['2022-03-15', '2022-03-16', '2022-03-17', '2022-03-18',\n",
            "               '2022-03-19', '2022-03-20'],\n",
            "              dtype='datetime64[ns]', freq='D')\n",
            "2022-03-15      0.00\n",
            "2022-03-16    145.83\n",
            "2022-03-17    143.68\n",
            "2022-03-18    144.02\n",
            "2022-03-19    143.50\n",
            "2022-03-20    142.62\n",
            "Freq: D, dtype: float64\n"
          ]
        }
      ]
    },
    {
      "cell_type": "markdown",
      "metadata": {
        "id": "7WedejFZg19J"
      },
      "source": [
        "Series are usually accessed using the iloc[] and loc[] methods. iloc[] is used to access elements by integer index, and loc[] is used to access the index of the series.\n",
        "\n",
        "iloc[] is necessary when the index of a series are integers, take our previous defined series as example:"
      ]
    },
    {
      "cell_type": "code",
      "metadata": {
        "colab": {
          "base_uri": "https://localhost:8080/"
        },
        "id": "KrVSOyMvO58m",
        "outputId": "58d4b1c8-f65b-4bb7-fb73-5dbb9b980045"
      },
      "source": [
        "s.index = [6,5,4,3,2,1]\n",
        "print(s)\n",
        "print(s[1]) #Se accede y se imprime el elemento de la Series s el cual el nombre de su indice es el entero 1"
      ],
      "execution_count": null,
      "outputs": [
        {
          "output_type": "stream",
          "name": "stdout",
          "text": [
            "6      0.00\n",
            "5    145.83\n",
            "4    143.68\n",
            "3    144.02\n",
            "2    143.50\n",
            "1    142.62\n",
            "dtype: float64\n",
            "142.62\n"
          ]
        }
      ]
    },
    {
      "cell_type": "markdown",
      "metadata": {
        "id": "r30VKPtpg61p"
      },
      "source": [
        "If we intended to take the second element of the series, we would make a mistake here, because the index are integers. In order to access to the element we want, we use iloc[] here:"
      ]
    },
    {
      "cell_type": "code",
      "metadata": {
        "colab": {
          "base_uri": "https://localhost:8080/"
        },
        "id": "bHukfaAmO58m",
        "outputId": "25bcf968-7101-474b-d696-6a0ba81b8bca"
      },
      "source": [
        "print(s.iloc[1]) #Con iloc[] en este caso se accede al elemento en la posicion o indice 1 en la Serie s.\n",
        "print('El primer elemento en la Series s es '+str(s.iloc[0])) #En este caso con iloc[] se accede al primer elemento de s, el cual esta en la posicion o indice 0"
      ],
      "execution_count": null,
      "outputs": [
        {
          "output_type": "stream",
          "name": "stdout",
          "text": [
            "145.83\n",
            "El primer elemento en la Series s es 0.0\n"
          ]
        }
      ]
    },
    {
      "cell_type": "markdown",
      "metadata": {
        "id": "kHVBRL_Rg84j"
      },
      "source": [
        "While working with time series data, we often use time as the index. Pandas provides us with various methods to access the data by time index"
      ]
    },
    {
      "cell_type": "code",
      "metadata": {
        "colab": {
          "base_uri": "https://localhost:8080/"
        },
        "id": "FCf8Hg7jO58n",
        "outputId": "8b5615d1-be9e-43a0-a027-54a0bf069b91"
      },
      "source": [
        "s.index = time_index\n",
        "#Se muestran dos formas de acceder al primer elemento de la series S. Primero con su indice correspondiente asignado por time_index. La segunda con iloc[0]\n",
        "print(s['2022-03-15'])\n",
        "print(s.iloc[0])"
      ],
      "execution_count": null,
      "outputs": [
        {
          "output_type": "stream",
          "name": "stdout",
          "text": [
            "0.0\n",
            "0.0\n"
          ]
        }
      ]
    },
    {
      "cell_type": "markdown",
      "metadata": {
        "id": "XJXcrSFpg-To"
      },
      "source": [
        "We can even access to a range of dates:"
      ]
    },
    {
      "cell_type": "code",
      "metadata": {
        "colab": {
          "base_uri": "https://localhost:8080/"
        },
        "id": "NsE-Lr_9O58n",
        "outputId": "1e515321-56c7-440f-8403-d04965a653c3"
      },
      "source": [
        "print(s['2022-03-15':'2022-03-18']) #Se accede a los indices desde 2022-03-15 hasta 2022-03-18"
      ],
      "execution_count": null,
      "outputs": [
        {
          "output_type": "stream",
          "name": "stdout",
          "text": [
            "2022-03-15      0.00\n",
            "2022-03-16    145.83\n",
            "2022-03-17    143.68\n",
            "2022-03-18    144.02\n",
            "Freq: D, dtype: float64\n"
          ]
        }
      ]
    },
    {
      "cell_type": "markdown",
      "metadata": {
        "id": "cWA3NCXEhCLB"
      },
      "source": [
        "Series[] provides us a very flexible way to index data. We can add any condition in the square brackets:"
      ]
    },
    {
      "cell_type": "code",
      "metadata": {
        "colab": {
          "base_uri": "https://localhost:8080/"
        },
        "id": "aawbrg2EO58n",
        "outputId": "ae3c3ef6-2ae7-4bf9-b765-5fb5a2d261da"
      },
      "source": [
        "print(s[s < np.mean(s)] ) #Imprime los elementos de la Series s que tienen menor valor que la media de los elementos de s\n",
        "#El siguiente codigo imprime el resultado de la operacion logica en para cada uno de los elementos en la Series s\n",
        "print([(s > np.mean(s)) & (s < np.mean(s) + 1.64*np.std(s))])"
      ],
      "execution_count": null,
      "outputs": [
        {
          "output_type": "stream",
          "name": "stdout",
          "text": [
            "2022-03-15    0.0\n",
            "Freq: D, dtype: float64\n",
            "[2022-03-15    False\n",
            "2022-03-16     True\n",
            "2022-03-17     True\n",
            "2022-03-18     True\n",
            "2022-03-19     True\n",
            "2022-03-20     True\n",
            "Freq: D, dtype: bool]\n"
          ]
        }
      ]
    },
    {
      "cell_type": "markdown",
      "metadata": {
        "id": "jAByChIwhEuI"
      },
      "source": [
        "As demonstrated, we can use logical operators like & (and), | (or) and ~ (not) to group multiple conditions.\n",
        "\n",
        "# Summary\n",
        "Here we have introduced NumPy and Pandas for scientific computing in Python. In the next chapter, we will dive into Pandas to learn resampling and manipulating Pandas DataFrame, which are commonly used in financial data analysis."
      ]
    },
    {
      "cell_type": "markdown",
      "metadata": {
        "id": "OtjOpw6oJp6z"
      },
      "source": [
        "<div align=\"center\">\n",
        "<img style=\"display: block; margin: auto;\" alt=\"photo\" src=\"https://cdn.quantconnect.com/web/i/icon.png\"> <img style=\"display: block; margin: auto;\" alt=\"photo\" src=\"https://www.marketing-branding.com/wp-content/uploads/2020/07/google-colaboratory-colab-guia-completa.jpg \" width=\"50\" height=\"50\">\n",
        "<img style=\"display: block; margin: auto;\" alt=\"photo\" src=\"https://upload.wikimedia.org/wikipedia/commons/d/da/Yahoo_Finance_Logo_2019.svg\" width=\"50\" height=\"50\">  \n",
        "\n",
        "Quantconnect -> Google Colab with Yahoo Finance data\n",
        "\n",
        "Introduction to Financial Python\n",
        "</div>\n",
        "\n",
        "# 05 Pandas-Resampling and DataFrame\n",
        "\n",
        "# Introduction\n",
        "In the last chapter we had a glimpse of Pandas. In this chapter we will learn about resampling methods and the DataFrame object, which is a powerful tool for financial data analysis.\n",
        "\n",
        "# Fetching Data\n",
        "Here we use the Yahoo Finance to retrieve data.\n"
      ]
    },
    {
      "cell_type": "code",
      "metadata": {
        "colab": {
          "base_uri": "https://localhost:8080/"
        },
        "id": "luU8mZTsHW9x",
        "outputId": "ed69f03b-432d-4875-a9e6-0c3ea7d8b48c"
      },
      "source": [
        "!pip install yfinance"
      ],
      "execution_count": 41,
      "outputs": [
        {
          "output_type": "stream",
          "name": "stdout",
          "text": [
            "Requirement already satisfied: yfinance in /usr/local/lib/python3.7/dist-packages (0.1.70)\n",
            "Requirement already satisfied: multitasking>=0.0.7 in /usr/local/lib/python3.7/dist-packages (from yfinance) (0.0.10)\n",
            "Requirement already satisfied: lxml>=4.5.1 in /usr/local/lib/python3.7/dist-packages (from yfinance) (4.8.0)\n",
            "Requirement already satisfied: pandas>=0.24.0 in /usr/local/lib/python3.7/dist-packages (from yfinance) (1.3.5)\n",
            "Requirement already satisfied: numpy>=1.15 in /usr/local/lib/python3.7/dist-packages (from yfinance) (1.21.5)\n",
            "Requirement already satisfied: requests>=2.26 in /usr/local/lib/python3.7/dist-packages (from yfinance) (2.27.1)\n",
            "Requirement already satisfied: pytz>=2017.3 in /usr/local/lib/python3.7/dist-packages (from pandas>=0.24.0->yfinance) (2018.9)\n",
            "Requirement already satisfied: python-dateutil>=2.7.3 in /usr/local/lib/python3.7/dist-packages (from pandas>=0.24.0->yfinance) (2.8.2)\n",
            "Requirement already satisfied: six>=1.5 in /usr/local/lib/python3.7/dist-packages (from python-dateutil>=2.7.3->pandas>=0.24.0->yfinance) (1.15.0)\n",
            "Requirement already satisfied: certifi>=2017.4.17 in /usr/local/lib/python3.7/dist-packages (from requests>=2.26->yfinance) (2021.10.8)\n",
            "Requirement already satisfied: idna<4,>=2.5 in /usr/local/lib/python3.7/dist-packages (from requests>=2.26->yfinance) (2.10)\n",
            "Requirement already satisfied: urllib3<1.27,>=1.21.1 in /usr/local/lib/python3.7/dist-packages (from requests>=2.26->yfinance) (1.24.3)\n",
            "Requirement already satisfied: charset-normalizer~=2.0.0 in /usr/local/lib/python3.7/dist-packages (from requests>=2.26->yfinance) (2.0.12)\n"
          ]
        }
      ]
    },
    {
      "cell_type": "code",
      "metadata": {
        "colab": {
          "base_uri": "https://localhost:8080/",
          "height": 492
        },
        "id": "mWZ-nirTZHrE",
        "outputId": "54f8e4c5-7e99-4f47-eae9-528a3c21a2cf"
      },
      "source": [
        "import yfinance as yf\n",
        "\n",
        "aapl = yf.Ticker(\"AAPL\")\n",
        "\n",
        "# get stock info\n",
        "print(aapl.info)\n",
        "\n",
        "# get historical market data since 2016-01-01 until 2017-12-31. Aunque en la tabla solo se obtiene hasta 2017-12-29\n",
        "aapl_table = aapl.history(start=\"2016-01-01\",  end=\"2017-12-31\")\n",
        "aapl_table"
      ],
      "execution_count": 43,
      "outputs": [
        {
          "output_type": "stream",
          "name": "stdout",
          "text": [
            "{'zip': '95014', 'sector': 'Technology', 'fullTimeEmployees': 100000, 'longBusinessSummary': 'Apple Inc. designs, manufactures, and markets smartphones, personal computers, tablets, wearables, and accessories worldwide. It also sells various related services. In addition, the company offers iPhone, a line of smartphones; Mac, a line of personal computers; iPad, a line of multi-purpose tablets; AirPods Max, an over-ear wireless headphone; and wearables, home, and accessories comprising AirPods, Apple TV, Apple Watch, Beats products, HomePod, and iPod touch. Further, it provides AppleCare support services; cloud services store services; and operates various platforms, including the App Store that allow customers to discover and download applications and digital content, such as books, music, video, games, and podcasts. Additionally, the company offers various services, such as Apple Arcade, a game subscription service; Apple Music, which offers users a curated listening experience with on-demand radio stations; Apple News+, a subscription news and magazine service; Apple TV+, which offers exclusive original content; Apple Card, a co-branded credit card; and Apple Pay, a cashless payment service, as well as licenses its intellectual property. The company serves consumers, and small and mid-sized businesses; and the education, enterprise, and government markets. It distributes third-party applications for its products through the App Store. The company also sells its products through its retail and online stores, and direct sales force; and third-party cellular network carriers, wholesalers, retailers, and resellers. Apple Inc. was incorporated in 1977 and is headquartered in Cupertino, California.', 'city': 'Cupertino', 'phone': '408 996 1010', 'state': 'CA', 'country': 'United States', 'companyOfficers': [], 'website': 'https://www.apple.com', 'maxAge': 1, 'address1': 'One Apple Park Way', 'industry': 'Consumer Electronics', 'ebitdaMargins': 0.33890998, 'profitMargins': 0.26579002, 'grossMargins': 0.43019, 'operatingCashflow': 112241000448, 'revenueGrowth': 0.112, 'operatingMargins': 0.309, 'ebitda': 128217997312, 'targetLowPrice': 160, 'recommendationKey': 'buy', 'grossProfits': 152836000000, 'freeCashflow': 80153247744, 'targetMedianPrice': 199.5, 'currentPrice': 155.09, 'earningsGrowth': 0.25, 'currentRatio': 1.038, 'returnOnAssets': 0.19875, 'numberOfAnalystOpinions': 44, 'targetMeanPrice': 193.53, 'debtToEquity': 170.714, 'returnOnEquity': 1.45567, 'targetHighPrice': 215, 'totalCash': 63913000960, 'totalDebt': 122797998080, 'totalRevenue': 378323009536, 'totalCashPerShare': 3.916, 'financialCurrency': 'USD', 'revenuePerShare': 22.838, 'quickRatio': 0.875, 'recommendationMean': 1.8, 'exchange': 'NMS', 'shortName': 'Apple Inc.', 'longName': 'Apple Inc.', 'exchangeTimezoneName': 'America/New_York', 'exchangeTimezoneShortName': 'EDT', 'isEsgPopulated': False, 'gmtOffSetMilliseconds': '-14400000', 'quoteType': 'EQUITY', 'symbol': 'AAPL', 'messageBoardId': 'finmb_24937', 'market': 'us_market', 'annualHoldingsTurnover': None, 'enterpriseToRevenue': 6.653, 'beta3Year': None, 'enterpriseToEbitda': 19.63, '52WeekChange': 0.19949031, 'morningStarRiskRating': None, 'forwardEps': 6.56, 'revenueQuarterlyGrowth': None, 'sharesOutstanding': 16319399936, 'fundInceptionDate': None, 'annualReportExpenseRatio': None, 'totalAssets': None, 'bookValue': 4.402, 'sharesShort': 110322490, 'sharesPercentSharesOut': 0.0068, 'fundFamily': None, 'lastFiscalYearEnd': 1632528000, 'heldPercentInstitutions': 0.59430003, 'netIncomeToCommon': 100554997760, 'trailingEps': 6.015, 'lastDividendValue': 0.22, 'SandP52WeekChange': 0.053094983, 'priceToBook': 35.231712, 'heldPercentInsiders': 0.0007, 'nextFiscalYearEnd': 1695600000, 'yield': None, 'mostRecentQuarter': 1640390400, 'shortRatio': 1.2, 'sharesShortPreviousMonthDate': 1643587200, 'floatShares': 16302795170, 'beta': 1.185531, 'enterpriseValue': 2516919255040, 'priceHint': 2, 'threeYearAverageReturn': None, 'lastSplitDate': 1598832000, 'lastSplitFactor': '4:1', 'legalType': None, 'lastDividendDate': 1643932800, 'morningStarOverallRating': None, 'earningsQuarterlyGrowth': 0.204, 'priceToSalesTrailing12Months': 6.8725734, 'dateShortInterest': 1646006400, 'pegRatio': 1.69, 'ytdReturn': None, 'forwardPE': 23.641768, 'lastCapGain': None, 'shortPercentOfFloat': 0.0068, 'sharesShortPriorMonth': 91388112, 'impliedSharesOutstanding': 0, 'category': None, 'fiveYearAverageReturn': None, 'previousClose': 150.62, 'regularMarketOpen': 150.9, 'twoHundredDayAverage': 153.7353, 'trailingAnnualDividendYield': 0.0057429294, 'payoutRatio': 0.1434, 'volume24Hr': None, 'regularMarketDayHigh': 155.57, 'navPrice': None, 'averageDailyVolume10Day': 95333020, 'regularMarketPreviousClose': 150.62, 'fiftyDayAverage': 168.0858, 'trailingAnnualDividendRate': 0.865, 'open': 150.9, 'toCurrency': None, 'averageVolume10days': 95333020, 'expireDate': None, 'algorithm': None, 'dividendRate': 0.88, 'exDividendDate': 1643932800, 'circulatingSupply': None, 'startDate': None, 'regularMarketDayLow': 150.385, 'currency': 'USD', 'trailingPE': 25.783875, 'regularMarketVolume': 89231766, 'lastMarket': None, 'maxSupply': None, 'openInterest': None, 'marketCap': 2600052719616, 'volumeAllCurrencies': None, 'strikePrice': None, 'averageVolume': 95562583, 'dayLow': 150.385, 'ask': 155.1, 'askSize': 800, 'volume': 89231766, 'fiftyTwoWeekHigh': 182.94, 'fromCurrency': None, 'fiveYearAvgDividendYield': 1.13, 'fiftyTwoWeekLow': 118.86, 'bid': 155.01, 'tradeable': False, 'dividendYield': 0.0057, 'bidSize': 1200, 'dayHigh': 155.57, 'regularMarketPrice': 155.09, 'preMarketPrice': 150.9, 'logo_url': 'https://logo.clearbit.com/apple.com', 'trailingPegRatio': 3.2017}\n"
          ]
        },
        {
          "output_type": "execute_result",
          "data": {
            "text/plain": [
              "                 Open       High        Low      Close     Volume  Dividends  \\\n",
              "Date                                                                           \n",
              "2016-01-04  23.590627  24.225167  23.450384  24.220568  270597600        0.0   \n",
              "2016-01-05  24.312536  24.335527  23.544652  23.613623  223164000        0.0   \n",
              "2016-01-06  23.119329  23.535460  22.960695  23.151516  273829600        0.0   \n",
              "2016-01-07  22.687106  23.020469  22.169818  22.174416  324377600        0.0   \n",
              "2016-01-08  22.657219  22.785966  22.245687  22.291668  283192000        0.0   \n",
              "...               ...        ...        ...        ...        ...        ...   \n",
              "2017-12-22  41.713657  41.890370  41.670674  41.792461   65397600        0.0   \n",
              "2017-12-26  40.787101  40.947097  40.519642  40.732178  132742000        0.0   \n",
              "2017-12-27  40.619945  40.782328  40.526813  40.739346   85992800        0.0   \n",
              "2017-12-28  40.834865  41.037847  40.710688  40.853970   65920800        0.0   \n",
              "2017-12-29  40.720248  40.736962  40.409807  40.412193  103999600        0.0   \n",
              "\n",
              "            Stock Splits  \n",
              "Date                      \n",
              "2016-01-04             0  \n",
              "2016-01-05             0  \n",
              "2016-01-06             0  \n",
              "2016-01-07             0  \n",
              "2016-01-08             0  \n",
              "...                  ...  \n",
              "2017-12-22             0  \n",
              "2017-12-26             0  \n",
              "2017-12-27             0  \n",
              "2017-12-28             0  \n",
              "2017-12-29             0  \n",
              "\n",
              "[503 rows x 7 columns]"
            ],
            "text/html": [
              "\n",
              "  <div id=\"df-bb1e1835-39a5-4f60-9a70-af25ae5bb275\">\n",
              "    <div class=\"colab-df-container\">\n",
              "      <div>\n",
              "<style scoped>\n",
              "    .dataframe tbody tr th:only-of-type {\n",
              "        vertical-align: middle;\n",
              "    }\n",
              "\n",
              "    .dataframe tbody tr th {\n",
              "        vertical-align: top;\n",
              "    }\n",
              "\n",
              "    .dataframe thead th {\n",
              "        text-align: right;\n",
              "    }\n",
              "</style>\n",
              "<table border=\"1\" class=\"dataframe\">\n",
              "  <thead>\n",
              "    <tr style=\"text-align: right;\">\n",
              "      <th></th>\n",
              "      <th>Open</th>\n",
              "      <th>High</th>\n",
              "      <th>Low</th>\n",
              "      <th>Close</th>\n",
              "      <th>Volume</th>\n",
              "      <th>Dividends</th>\n",
              "      <th>Stock Splits</th>\n",
              "    </tr>\n",
              "    <tr>\n",
              "      <th>Date</th>\n",
              "      <th></th>\n",
              "      <th></th>\n",
              "      <th></th>\n",
              "      <th></th>\n",
              "      <th></th>\n",
              "      <th></th>\n",
              "      <th></th>\n",
              "    </tr>\n",
              "  </thead>\n",
              "  <tbody>\n",
              "    <tr>\n",
              "      <th>2016-01-04</th>\n",
              "      <td>23.590627</td>\n",
              "      <td>24.225167</td>\n",
              "      <td>23.450384</td>\n",
              "      <td>24.220568</td>\n",
              "      <td>270597600</td>\n",
              "      <td>0.0</td>\n",
              "      <td>0</td>\n",
              "    </tr>\n",
              "    <tr>\n",
              "      <th>2016-01-05</th>\n",
              "      <td>24.312536</td>\n",
              "      <td>24.335527</td>\n",
              "      <td>23.544652</td>\n",
              "      <td>23.613623</td>\n",
              "      <td>223164000</td>\n",
              "      <td>0.0</td>\n",
              "      <td>0</td>\n",
              "    </tr>\n",
              "    <tr>\n",
              "      <th>2016-01-06</th>\n",
              "      <td>23.119329</td>\n",
              "      <td>23.535460</td>\n",
              "      <td>22.960695</td>\n",
              "      <td>23.151516</td>\n",
              "      <td>273829600</td>\n",
              "      <td>0.0</td>\n",
              "      <td>0</td>\n",
              "    </tr>\n",
              "    <tr>\n",
              "      <th>2016-01-07</th>\n",
              "      <td>22.687106</td>\n",
              "      <td>23.020469</td>\n",
              "      <td>22.169818</td>\n",
              "      <td>22.174416</td>\n",
              "      <td>324377600</td>\n",
              "      <td>0.0</td>\n",
              "      <td>0</td>\n",
              "    </tr>\n",
              "    <tr>\n",
              "      <th>2016-01-08</th>\n",
              "      <td>22.657219</td>\n",
              "      <td>22.785966</td>\n",
              "      <td>22.245687</td>\n",
              "      <td>22.291668</td>\n",
              "      <td>283192000</td>\n",
              "      <td>0.0</td>\n",
              "      <td>0</td>\n",
              "    </tr>\n",
              "    <tr>\n",
              "      <th>...</th>\n",
              "      <td>...</td>\n",
              "      <td>...</td>\n",
              "      <td>...</td>\n",
              "      <td>...</td>\n",
              "      <td>...</td>\n",
              "      <td>...</td>\n",
              "      <td>...</td>\n",
              "    </tr>\n",
              "    <tr>\n",
              "      <th>2017-12-22</th>\n",
              "      <td>41.713657</td>\n",
              "      <td>41.890370</td>\n",
              "      <td>41.670674</td>\n",
              "      <td>41.792461</td>\n",
              "      <td>65397600</td>\n",
              "      <td>0.0</td>\n",
              "      <td>0</td>\n",
              "    </tr>\n",
              "    <tr>\n",
              "      <th>2017-12-26</th>\n",
              "      <td>40.787101</td>\n",
              "      <td>40.947097</td>\n",
              "      <td>40.519642</td>\n",
              "      <td>40.732178</td>\n",
              "      <td>132742000</td>\n",
              "      <td>0.0</td>\n",
              "      <td>0</td>\n",
              "    </tr>\n",
              "    <tr>\n",
              "      <th>2017-12-27</th>\n",
              "      <td>40.619945</td>\n",
              "      <td>40.782328</td>\n",
              "      <td>40.526813</td>\n",
              "      <td>40.739346</td>\n",
              "      <td>85992800</td>\n",
              "      <td>0.0</td>\n",
              "      <td>0</td>\n",
              "    </tr>\n",
              "    <tr>\n",
              "      <th>2017-12-28</th>\n",
              "      <td>40.834865</td>\n",
              "      <td>41.037847</td>\n",
              "      <td>40.710688</td>\n",
              "      <td>40.853970</td>\n",
              "      <td>65920800</td>\n",
              "      <td>0.0</td>\n",
              "      <td>0</td>\n",
              "    </tr>\n",
              "    <tr>\n",
              "      <th>2017-12-29</th>\n",
              "      <td>40.720248</td>\n",
              "      <td>40.736962</td>\n",
              "      <td>40.409807</td>\n",
              "      <td>40.412193</td>\n",
              "      <td>103999600</td>\n",
              "      <td>0.0</td>\n",
              "      <td>0</td>\n",
              "    </tr>\n",
              "  </tbody>\n",
              "</table>\n",
              "<p>503 rows × 7 columns</p>\n",
              "</div>\n",
              "      <button class=\"colab-df-convert\" onclick=\"convertToInteractive('df-bb1e1835-39a5-4f60-9a70-af25ae5bb275')\"\n",
              "              title=\"Convert this dataframe to an interactive table.\"\n",
              "              style=\"display:none;\">\n",
              "        \n",
              "  <svg xmlns=\"http://www.w3.org/2000/svg\" height=\"24px\"viewBox=\"0 0 24 24\"\n",
              "       width=\"24px\">\n",
              "    <path d=\"M0 0h24v24H0V0z\" fill=\"none\"/>\n",
              "    <path d=\"M18.56 5.44l.94 2.06.94-2.06 2.06-.94-2.06-.94-.94-2.06-.94 2.06-2.06.94zm-11 1L8.5 8.5l.94-2.06 2.06-.94-2.06-.94L8.5 2.5l-.94 2.06-2.06.94zm10 10l.94 2.06.94-2.06 2.06-.94-2.06-.94-.94-2.06-.94 2.06-2.06.94z\"/><path d=\"M17.41 7.96l-1.37-1.37c-.4-.4-.92-.59-1.43-.59-.52 0-1.04.2-1.43.59L10.3 9.45l-7.72 7.72c-.78.78-.78 2.05 0 2.83L4 21.41c.39.39.9.59 1.41.59.51 0 1.02-.2 1.41-.59l7.78-7.78 2.81-2.81c.8-.78.8-2.07 0-2.86zM5.41 20L4 18.59l7.72-7.72 1.47 1.35L5.41 20z\"/>\n",
              "  </svg>\n",
              "      </button>\n",
              "      \n",
              "  <style>\n",
              "    .colab-df-container {\n",
              "      display:flex;\n",
              "      flex-wrap:wrap;\n",
              "      gap: 12px;\n",
              "    }\n",
              "\n",
              "    .colab-df-convert {\n",
              "      background-color: #E8F0FE;\n",
              "      border: none;\n",
              "      border-radius: 50%;\n",
              "      cursor: pointer;\n",
              "      display: none;\n",
              "      fill: #1967D2;\n",
              "      height: 32px;\n",
              "      padding: 0 0 0 0;\n",
              "      width: 32px;\n",
              "    }\n",
              "\n",
              "    .colab-df-convert:hover {\n",
              "      background-color: #E2EBFA;\n",
              "      box-shadow: 0px 1px 2px rgba(60, 64, 67, 0.3), 0px 1px 3px 1px rgba(60, 64, 67, 0.15);\n",
              "      fill: #174EA6;\n",
              "    }\n",
              "\n",
              "    [theme=dark] .colab-df-convert {\n",
              "      background-color: #3B4455;\n",
              "      fill: #D2E3FC;\n",
              "    }\n",
              "\n",
              "    [theme=dark] .colab-df-convert:hover {\n",
              "      background-color: #434B5C;\n",
              "      box-shadow: 0px 1px 3px 1px rgba(0, 0, 0, 0.15);\n",
              "      filter: drop-shadow(0px 1px 2px rgba(0, 0, 0, 0.3));\n",
              "      fill: #FFFFFF;\n",
              "    }\n",
              "  </style>\n",
              "\n",
              "      <script>\n",
              "        const buttonEl =\n",
              "          document.querySelector('#df-bb1e1835-39a5-4f60-9a70-af25ae5bb275 button.colab-df-convert');\n",
              "        buttonEl.style.display =\n",
              "          google.colab.kernel.accessAllowed ? 'block' : 'none';\n",
              "\n",
              "        async function convertToInteractive(key) {\n",
              "          const element = document.querySelector('#df-bb1e1835-39a5-4f60-9a70-af25ae5bb275');\n",
              "          const dataTable =\n",
              "            await google.colab.kernel.invokeFunction('convertToInteractive',\n",
              "                                                     [key], {});\n",
              "          if (!dataTable) return;\n",
              "\n",
              "          const docLinkHtml = 'Like what you see? Visit the ' +\n",
              "            '<a target=\"_blank\" href=https://colab.research.google.com/notebooks/data_table.ipynb>data table notebook</a>'\n",
              "            + ' to learn more about interactive tables.';\n",
              "          element.innerHTML = '';\n",
              "          dataTable['output_type'] = 'display_data';\n",
              "          await google.colab.output.renderOutput(dataTable, element);\n",
              "          const docLink = document.createElement('div');\n",
              "          docLink.innerHTML = docLinkHtml;\n",
              "          element.appendChild(docLink);\n",
              "        }\n",
              "      </script>\n",
              "    </div>\n",
              "  </div>\n",
              "  "
            ]
          },
          "metadata": {},
          "execution_count": 43
        }
      ]
    },
    {
      "cell_type": "markdown",
      "metadata": {
        "id": "NkFztSYhJyVA"
      },
      "source": [
        "We will create a Series named \"aapl\" whose values are Apple's daily closing prices, which are of course indexed by dates:"
      ]
    },
    {
      "cell_type": "code",
      "metadata": {
        "id": "QDJbOpCeHW91"
      },
      "source": [
        "aapl = aapl_table['Close']['2017'] #Se asigna a la variable aapl los datos de la columba Close de la tabla de los indices del 2017"
      ],
      "execution_count": 45,
      "outputs": []
    },
    {
      "cell_type": "code",
      "metadata": {
        "colab": {
          "base_uri": "https://localhost:8080/"
        },
        "id": "SXfgCQJOHW91",
        "outputId": "16b9ce59-62d2-4745-f2b2-31dfd0581e8e"
      },
      "source": [
        "print(aapl)"
      ],
      "execution_count": 46,
      "outputs": [
        {
          "output_type": "stream",
          "name": "stdout",
          "text": [
            "Date\n",
            "2017-01-03    27.297695\n",
            "2017-01-04    27.267139\n",
            "2017-01-05    27.405802\n",
            "2017-01-06    27.711327\n",
            "2017-01-09    27.965153\n",
            "                ...    \n",
            "2017-12-22    41.792461\n",
            "2017-12-26    40.732178\n",
            "2017-12-27    40.739346\n",
            "2017-12-28    40.853970\n",
            "2017-12-29    40.412193\n",
            "Name: Close, Length: 251, dtype: float64\n"
          ]
        }
      ]
    },
    {
      "cell_type": "markdown",
      "metadata": {
        "id": "waUEgBhzKEcA"
      },
      "source": [
        "Recall that we can fetch a specific data point using series['yyyy-mm-dd']. We can also fetch the data in a specific month using series['yyyy-mm']."
      ]
    },
    {
      "cell_type": "code",
      "metadata": {
        "colab": {
          "base_uri": "https://localhost:8080/"
        },
        "id": "2gS50G0zHW92",
        "outputId": "4c55870f-5f5b-4507-c7d7-44108196653d"
      },
      "source": [
        "print(aapl['2017-06']) #Imprime el valor de la columna Close de los indices del 2017 en el mes 06"
      ],
      "execution_count": 48,
      "outputs": [
        {
          "output_type": "stream",
          "name": "stdout",
          "text": [
            "Date\n",
            "2017-06-01    36.305843\n",
            "2017-06-02    36.843864\n",
            "2017-06-05    36.483604\n",
            "2017-06-06    36.606857\n",
            "2017-06-07    36.824902\n",
            "2017-06-08    36.734844\n",
            "2017-06-09    35.310390\n",
            "2017-06-12    34.466610\n",
            "2017-06-13    34.743919\n",
            "2017-06-14    34.404991\n",
            "2017-06-15    34.198780\n",
            "2017-06-16    33.720016\n",
            "2017-06-19    34.684673\n",
            "2017-06-20    34.369438\n",
            "2017-06-21    34.573265\n",
            "2017-06-22    34.516380\n",
            "2017-06-23    34.670444\n",
            "2017-06-26    34.561424\n",
            "2017-06-27    34.066063\n",
            "2017-06-28    34.563793\n",
            "2017-06-29    34.054203\n",
            "2017-06-30    34.134796\n",
            "Name: Close, dtype: float64\n"
          ]
        }
      ]
    },
    {
      "cell_type": "code",
      "metadata": {
        "colab": {
          "base_uri": "https://localhost:8080/"
        },
        "id": "vpvxGwXtHW92",
        "outputId": "2a0d35ef-cf0a-4b74-f69d-261713af74f3"
      },
      "source": [
        "aapl['2017-03':'2017-06'] #Imprime el valor de la columna Close de los indices del 2017 desde el mes 03 hasta el mes 06"
      ],
      "execution_count": 49,
      "outputs": [
        {
          "output_type": "execute_result",
          "data": {
            "text/plain": [
              "Date\n",
              "2017-03-01    32.996025\n",
              "2017-03-02    32.800114\n",
              "2017-03-03    32.993668\n",
              "2017-03-06    32.889812\n",
              "2017-03-07    32.932297\n",
              "                ...    \n",
              "2017-06-26    34.561424\n",
              "2017-06-27    34.066063\n",
              "2017-06-28    34.563793\n",
              "2017-06-29    34.054203\n",
              "2017-06-30    34.134796\n",
              "Name: Close, Length: 86, dtype: float64"
            ]
          },
          "metadata": {},
          "execution_count": 49
        }
      ]
    },
    {
      "cell_type": "markdown",
      "metadata": {
        "id": "lWwoD39pKNKb"
      },
      "source": [
        ".head(N) and .tail(N) are methods for quickly accessing the first or last N elements."
      ]
    },
    {
      "cell_type": "code",
      "metadata": {
        "colab": {
          "base_uri": "https://localhost:8080/"
        },
        "id": "1eU218ALHW93",
        "outputId": "66f3e08d-1df5-4fdc-acd1-e6a3515c8b07"
      },
      "source": [
        "print(aapl.head(3)) #Se imprimen los primeros 3 elementos en la Series aapl\n",
        "print(aapl.tail(6)) #Se imprimen los ultimos 6 elementos en la Series aapl"
      ],
      "execution_count": 53,
      "outputs": [
        {
          "output_type": "stream",
          "name": "stdout",
          "text": [
            "Date\n",
            "2017-01-03    27.297695\n",
            "2017-01-04    27.267139\n",
            "2017-01-05    27.405802\n",
            "Name: Close, dtype: float64\n",
            "Date\n",
            "2017-12-21    41.792461\n",
            "2017-12-22    41.792461\n",
            "2017-12-26    40.732178\n",
            "2017-12-27    40.739346\n",
            "2017-12-28    40.853970\n",
            "2017-12-29    40.412193\n",
            "Name: Close, dtype: float64\n"
          ]
        }
      ]
    },
    {
      "cell_type": "markdown",
      "metadata": {
        "id": "IxhKxtj-KQ66"
      },
      "source": [
        "# Resampling\n",
        "**_series.resample(freq)_** is a class called \"DatetimeIndexResampler\" which groups data in a Series object into regular time intervals. The argument \"freq\" determines the length of each interval.\n",
        "\n",
        "**_series.resample.mean()_** is a complete statement that groups data into intervals, and then compute the mean of each interval. For example, if we want to aggregate the daily data into monthly data by mean:"
      ]
    },
    {
      "cell_type": "code",
      "metadata": {
        "colab": {
          "base_uri": "https://localhost:8080/"
        },
        "id": "rAV8NkHkHW93",
        "outputId": "b2beab46-5609-4057-ad29-70b3319e7e85"
      },
      "source": [
        "#El siguiente codigo crea la Series by_month, en la cual se almacena el valor de promedio de cada mes calculado a partir de los elementos de la Series s agrupados por mes\n",
        "by_month = aapl.resample('M').mean()\n",
        "print(by_month)"
      ],
      "execution_count": 58,
      "outputs": [
        {
          "output_type": "stream",
          "name": "stdout",
          "text": [
            "Date\n",
            "2017-01-31    28.101464\n",
            "2017-02-28    31.520056\n",
            "2017-03-31    33.191428\n",
            "2017-04-30    33.727008\n",
            "2017-05-31    36.027137\n",
            "2017-06-30    35.038141\n",
            "2017-07-31    35.149094\n",
            "2017-08-31    37.793849\n",
            "2017-09-30    37.502157\n",
            "2017-10-31    37.551831\n",
            "2017-11-30    41.121433\n",
            "2017-12-31    41.047756\n",
            "Freq: M, Name: Close, dtype: float64\n"
          ]
        }
      ]
    },
    {
      "cell_type": "markdown",
      "metadata": {
        "id": "QDPfVzBEKV6Q"
      },
      "source": [
        "We can also aggregate the data by week:"
      ]
    },
    {
      "cell_type": "code",
      "metadata": {
        "colab": {
          "base_uri": "https://localhost:8080/"
        },
        "id": "aAP3tKkBHW94",
        "outputId": "e241fc1d-6f60-46cc-e558-b049a9cdce5c"
      },
      "source": [
        "#En este caso se almacena el valor promedio por cada semana de los elementos de la Series s, y unicamente se imprimen los 3 primeros\n",
        "by_week = aapl.resample('W').mean()\n",
        "print(by_week.head(3))"
      ],
      "execution_count": 61,
      "outputs": [
        {
          "output_type": "stream",
          "name": "stdout",
          "text": [
            "Date\n",
            "2017-01-08    27.420491\n",
            "2017-01-15    28.021086\n",
            "2017-01-22    28.189009\n",
            "Freq: W-SUN, Name: Close, dtype: float64\n"
          ]
        }
      ]
    },
    {
      "cell_type": "markdown",
      "metadata": {
        "id": "o_MXSVsILoBS"
      },
      "source": [
        "We can also aggregate the data by month with max:"
      ]
    },
    {
      "cell_type": "code",
      "metadata": {
        "colab": {
          "base_uri": "https://localhost:8080/"
        },
        "id": "gn0wqXBTHW95",
        "outputId": "1defc5a1-ed54-468d-fab8-786f9ec7e061"
      },
      "source": [
        "#En este caso se calcula el valor maximo por cada mes de los elementos de la Series s\n",
        "aapl.resample('M').max()"
      ],
      "execution_count": 64,
      "outputs": [
        {
          "output_type": "execute_result",
          "data": {
            "text/plain": [
              "Date\n",
              "2017-01-31    28.660814\n",
              "2017-02-28    32.363449\n",
              "2017-03-31    34.018074\n",
              "2017-04-30    34.171513\n",
              "2017-05-31    36.997929\n",
              "2017-06-30    36.843864\n",
              "2017-07-31    36.372208\n",
              "2017-08-31    39.022980\n",
              "2017-09-30    39.034882\n",
              "2017-10-31    40.222221\n",
              "2017-11-30    41.935429\n",
              "2017-12-31    42.129158\n",
              "Freq: M, Name: Close, dtype: float64"
            ]
          },
          "metadata": {},
          "execution_count": 64
        }
      ]
    },
    {
      "cell_type": "markdown",
      "metadata": {
        "id": "Z8r46UFlLdAh"
      },
      "source": [
        "We can choose almost any frequency by using the format 'nf', where 'n' is an integer and 'f' is M for month, W for week and D for day."
      ]
    },
    {
      "cell_type": "code",
      "metadata": {
        "colab": {
          "base_uri": "https://localhost:8080/"
        },
        "id": "kdVB_-JFHW96",
        "outputId": "dd6095b9-d695-416d-c3d8-fb81a8b845ed"
      },
      "source": [
        "three_day = aapl.resample('4D').mean() #En este caso se calculan y almacenan el valor promedio cada cuatro dias de los elementos de la Series s\n",
        "two_week = aapl.resample('2W').mean() #En este caso se calculan y almacenan el valor promedio cada dos semanas de los elementos de la Series s\n",
        "two_month = aapl.resample('6M').mean() #En este caso se calculan y almacenan el valor promedio cada seis meses de los elementos de la Series s\n",
        "\n",
        "\n",
        "print(three_day)\n",
        "print(two_week)\n",
        "print(two_month )"
      ],
      "execution_count": 66,
      "outputs": [
        {
          "output_type": "stream",
          "name": "stdout",
          "text": [
            "Date\n",
            "2017-01-03    27.420491\n",
            "2017-01-07    27.979253\n",
            "2017-01-11    28.048975\n",
            "2017-01-15    28.201347\n",
            "2017-01-19    28.176670\n",
            "                ...    \n",
            "2017-12-13    41.269482\n",
            "2017-12-17    41.814739\n",
            "2017-12-21    41.792461\n",
            "2017-12-25    40.775164\n",
            "2017-12-29    40.412193\n",
            "Freq: 4D, Name: Close, Length: 91, dtype: float64\n",
            "Date\n",
            "2017-01-08    27.420491\n",
            "2017-01-22    28.095718\n",
            "2017-02-05    29.028857\n",
            "2017-02-19    31.430839\n",
            "2017-03-05    32.506640\n",
            "2017-03-19    32.927814\n",
            "2017-04-02    33.533491\n",
            "2017-04-16    33.757389\n",
            "2017-04-30    33.699665\n",
            "2017-05-14    35.600251\n",
            "2017-05-28    36.396623\n",
            "2017-06-11    36.415399\n",
            "2017-06-25    34.434852\n",
            "2017-07-09    34.171663\n",
            "2017-07-23    35.182632\n",
            "2017-08-06    36.173826\n",
            "2017-08-20    37.800721\n",
            "2017-09-03    38.353881\n",
            "2017-09-17    38.178278\n",
            "2017-10-01    36.740376\n",
            "2017-10-15    36.970467\n",
            "2017-10-29    37.654321\n",
            "2017-11-12    40.920306\n",
            "2017-11-26    41.091975\n",
            "2017-12-10    40.755584\n",
            "2017-12-24    41.507327\n",
            "2018-01-07    40.684422\n",
            "Freq: 2W-SUN, Name: Close, dtype: float64\n",
            "Date\n",
            "2017-01-31    28.101464\n",
            "2017-07-31    34.156121\n",
            "2018-01-31    38.961766\n",
            "Freq: 6M, Name: Close, dtype: float64\n"
          ]
        }
      ]
    },
    {
      "cell_type": "markdown",
      "metadata": {
        "id": "iy4RqsnwL-Bw"
      },
      "source": [
        "Besides the mean() method, other methods can also be used with the resampler:\n",
        "\n"
      ]
    },
    {
      "cell_type": "code",
      "metadata": {
        "colab": {
          "base_uri": "https://localhost:8080/"
        },
        "id": "DNT8Fx9dHW96",
        "outputId": "aa461b53-39e7-4715-e737-17895fd89b4d"
      },
      "source": [
        "std = aapl.resample('M').std() #Se calcula la desviacion estandar con los datos de para cada mes\n",
        "max = aapl.resample('M').max() #Se calcula el valor maximo con los datos de cada mes\n",
        "min = aapl.resample('M').min() #Se calcula el valor minimo con los datos de cada mes\n",
        "\n",
        "\n",
        "print(std)\n",
        "print(max)\n",
        "print(min)"
      ],
      "execution_count": 67,
      "outputs": [
        {
          "output_type": "stream",
          "name": "stdout",
          "text": [
            "Date\n",
            "2017-01-31    0.423929\n",
            "2017-02-28    0.771735\n",
            "2017-03-31    0.406814\n",
            "2017-04-30    0.290247\n",
            "2017-05-31    0.758117\n",
            "2017-06-30    1.050996\n",
            "2017-07-31    0.772713\n",
            "2017-08-31    0.765382\n",
            "2017-09-30    0.941105\n",
            "2017-10-31    0.943638\n",
            "2017-11-30    0.636264\n",
            "2017-12-31    0.550065\n",
            "Freq: M, Name: Close, dtype: float64\n",
            "Date\n",
            "2017-01-31    28.660814\n",
            "2017-02-28    32.363449\n",
            "2017-03-31    34.018074\n",
            "2017-04-30    34.171513\n",
            "2017-05-31    36.997929\n",
            "2017-06-30    36.843864\n",
            "2017-07-31    36.372208\n",
            "2017-08-31    39.022980\n",
            "2017-09-30    39.034882\n",
            "2017-10-31    40.222221\n",
            "2017-11-30    41.935429\n",
            "2017-12-31    42.129158\n",
            "Freq: M, Name: Close, dtype: float64\n",
            "Date\n",
            "2017-01-31    27.267139\n",
            "2017-02-28    30.207254\n",
            "2017-03-31    32.734024\n",
            "2017-04-30    33.206100\n",
            "2017-05-31    34.586937\n",
            "2017-06-30    33.720016\n",
            "2017-07-31    33.829044\n",
            "2017-08-31    35.563999\n",
            "2017-09-30    35.822624\n",
            "2017-10-31    36.519798\n",
            "2017-11-30    39.710648\n",
            "2017-12-31    40.359657\n",
            "Freq: M, Name: Close, dtype: float64\n"
          ]
        }
      ]
    },
    {
      "cell_type": "markdown",
      "metadata": {
        "id": "uqln0s5DMI3I"
      },
      "source": [
        "Often we want to calculate monthly returns of a stock, based on prices on the last day of each month. To fetch those prices, we use the series.resample.agg() method:"
      ]
    },
    {
      "cell_type": "code",
      "metadata": {
        "colab": {
          "base_uri": "https://localhost:8080/"
        },
        "id": "A6FSYvqbHW97",
        "outputId": "69ac8408-b3a9-4b30-8afd-98ad9be922ce"
      },
      "source": [
        "#Se obtiene el valor del ultimo dia de cada mes y luego se imprime\n",
        "last_day = aapl.resample('M').agg(lambda x: x[-1])\n",
        "print(last_day)"
      ],
      "execution_count": 70,
      "outputs": [
        {
          "output_type": "stream",
          "name": "stdout",
          "text": [
            "Date\n",
            "2017-01-31    28.519800\n",
            "2017-02-28    32.335117\n",
            "2017-03-31    33.909508\n",
            "2017-04-30    33.907143\n",
            "2017-05-31    36.206303\n",
            "2017-06-30    34.134796\n",
            "2017-07-31    35.251129\n",
            "2017-08-31    39.022980\n",
            "2017-09-30    36.672081\n",
            "2017-10-31    40.222221\n",
            "2017-11-30    41.037838\n",
            "2017-12-31    40.412193\n",
            "Freq: M, Name: Close, dtype: float64\n"
          ]
        }
      ]
    },
    {
      "cell_type": "markdown",
      "metadata": {
        "id": "uwomY3aXMR46"
      },
      "source": [
        "Or directly calculate the monthly rates of return using the data for the first day and the last day:"
      ]
    },
    {
      "cell_type": "code",
      "metadata": {
        "colab": {
          "base_uri": "https://localhost:8080/"
        },
        "id": "qK2NMJrNHW96",
        "outputId": "efadc275-e7be-40be-9be0-5658adfd223a"
      },
      "source": [
        "#Se obtiene para cada mes un valor que se calcula con los datos del primer y ultimo dia del mes y se imprime\n",
        "monthly_return = aapl.resample('M').agg(lambda x: x[-1]/x[0] - 1)\n",
        "print(monthly_return)"
      ],
      "execution_count": 71,
      "outputs": [
        {
          "output_type": "stream",
          "name": "stdout",
          "text": [
            "Date\n",
            "2017-01-31    0.044770\n",
            "2017-02-28    0.068613\n",
            "2017-03-31    0.027685\n",
            "2017-04-30   -0.000348\n",
            "2017-05-31    0.046463\n",
            "2017-06-30   -0.059799\n",
            "2017-07-31    0.036446\n",
            "2017-08-31    0.097261\n",
            "2017-09-30   -0.060530\n",
            "2017-10-31    0.099018\n",
            "2017-11-30    0.033422\n",
            "2017-12-31   -0.010640\n",
            "Freq: M, Name: Close, dtype: float64\n"
          ]
        }
      ]
    },
    {
      "cell_type": "markdown",
      "metadata": {
        "id": "_DYbMTFWMj8J"
      },
      "source": [
        "Series object also provides us some convenient methods to do some quick calculation."
      ]
    },
    {
      "cell_type": "code",
      "metadata": {
        "colab": {
          "base_uri": "https://localhost:8080/"
        },
        "id": "1Mxc0HwvHW98",
        "outputId": "bdbe80d3-343d-43d7-b652-e5cadc78e15c"
      },
      "source": [
        "print(monthly_return.mean()) #Calcular la media de los resultados obtenidos en mothly_return\n",
        "print(monthly_return.std()) #Calcular la desviacion estandar de los resultados obtenidos en mothly_return\n",
        "print(monthly_return.max()) #Calcular el maximo de los resultados obtenidos en mothly_return"
      ],
      "execution_count": 73,
      "outputs": [
        {
          "output_type": "stream",
          "name": "stdout",
          "text": [
            "0.02686325540708374\n",
            "0.052258469869589166\n",
            "0.09901812908463614\n"
          ]
        }
      ]
    },
    {
      "cell_type": "markdown",
      "metadata": {
        "id": "mn59J5dqMpqX"
      },
      "source": [
        "Another two methods frequently used on Series are .diff() and .pct_change(). The former calculates the difference between consecutive elements, and the latter calculates the percentage change."
      ]
    },
    {
      "cell_type": "code",
      "metadata": {
        "colab": {
          "base_uri": "https://localhost:8080/"
        },
        "id": "DupZTSqqHW99",
        "outputId": "8beb17b8-ef2e-462f-b89b-3c209dc5d7fa"
      },
      "source": [
        "print(last_day.diff()) #Calcula la diferencia entre el valor del elemento actual y el anterior de la Series last_day \n",
        "print(last_day.pct_change()) #Calcula el porcentaje de cambio entre elemento actual y el anterior de la Series last_day: (last_day[n]-last_day[n-1])/last_day[n-1] "
      ],
      "execution_count": 75,
      "outputs": [
        {
          "output_type": "stream",
          "name": "stdout",
          "text": [
            "Date\n",
            "2017-01-31         NaN\n",
            "2017-02-28    3.815317\n",
            "2017-03-31    1.574390\n",
            "2017-04-30   -0.002365\n",
            "2017-05-31    2.299160\n",
            "2017-06-30   -2.071507\n",
            "2017-07-31    1.116333\n",
            "2017-08-31    3.771851\n",
            "2017-09-30   -2.350899\n",
            "2017-10-31    3.550140\n",
            "2017-11-30    0.815617\n",
            "2017-12-31   -0.625645\n",
            "Freq: M, Name: Close, dtype: float64\n",
            "Date\n",
            "2017-01-31         NaN\n",
            "2017-02-28    0.133778\n",
            "2017-03-31    0.048690\n",
            "2017-04-30   -0.000070\n",
            "2017-05-31    0.067808\n",
            "2017-06-30   -0.057214\n",
            "2017-07-31    0.032704\n",
            "2017-08-31    0.106999\n",
            "2017-09-30   -0.060244\n",
            "2017-10-31    0.096808\n",
            "2017-11-30    0.020278\n",
            "2017-12-31   -0.015246\n",
            "Freq: M, Name: Close, dtype: float64\n"
          ]
        }
      ]
    },
    {
      "cell_type": "markdown",
      "metadata": {
        "id": "RaMAOFepM6Io"
      },
      "source": [
        "Notice that we induced a NaN value while calculating percentage changes i.e. returns.\n",
        "\n",
        "When dealing with NaN values, we usually either removing the data point or fill it with a specific value. Here we fill it with 0:"
      ]
    },
    {
      "cell_type": "code",
      "metadata": {
        "colab": {
          "base_uri": "https://localhost:8080/"
        },
        "id": "-xyLb3A3HW99",
        "outputId": "526a4b9e-2bd7-45a3-d2d0-e7abb581af0c"
      },
      "source": [
        "daily_return = last_day.pct_change()\n",
        "print(daily_return.fillna(0)) #.fillna(0) permite llenar con 0 los elementos de la Series que tenian valor NaN"
      ],
      "execution_count": 81,
      "outputs": [
        {
          "output_type": "stream",
          "name": "stdout",
          "text": [
            "Date\n",
            "2017-01-31    0.000000\n",
            "2017-02-28    0.133778\n",
            "2017-03-31    0.048690\n",
            "2017-04-30   -0.000070\n",
            "2017-05-31    0.067808\n",
            "2017-06-30   -0.057214\n",
            "2017-07-31    0.032704\n",
            "2017-08-31    0.106999\n",
            "2017-09-30   -0.060244\n",
            "2017-10-31    0.096808\n",
            "2017-11-30    0.020278\n",
            "2017-12-31   -0.015246\n",
            "Freq: M, Name: Close, dtype: float64\n"
          ]
        }
      ]
    },
    {
      "cell_type": "markdown",
      "metadata": {
        "id": "BYS10Om1NQVC"
      },
      "source": [
        "Alternatively, we can fill a NaN with the next fitted value. This is called 'backward fill', or 'bfill' in short:"
      ]
    },
    {
      "cell_type": "code",
      "metadata": {
        "colab": {
          "base_uri": "https://localhost:8080/"
        },
        "id": "J513kHeKHW9-",
        "outputId": "44ef4a75-4641-4b88-e5e4-d19016f31d10"
      },
      "source": [
        "daily_return = last_day.pct_change()\n",
        "print(daily_return.fillna(method = 'bfill')) #.fillna(methos = 'bfill') permite llenar con el valor del siguiente elemento los elementos de la Series que tengan valor NaN"
      ],
      "execution_count": 85,
      "outputs": [
        {
          "output_type": "stream",
          "name": "stdout",
          "text": [
            "Date\n",
            "2017-01-31    0.133778\n",
            "2017-02-28    0.133778\n",
            "2017-03-31    0.048690\n",
            "2017-04-30   -0.000070\n",
            "2017-05-31    0.067808\n",
            "2017-06-30   -0.057214\n",
            "2017-07-31    0.032704\n",
            "2017-08-31    0.106999\n",
            "2017-09-30   -0.060244\n",
            "2017-10-31    0.096808\n",
            "2017-11-30    0.020278\n",
            "2017-12-31   -0.015246\n",
            "Freq: M, Name: Close, dtype: float64\n"
          ]
        }
      ]
    },
    {
      "cell_type": "markdown",
      "metadata": {
        "id": "bj8QUSgdNepf"
      },
      "source": [
        "As expected, since there is a 'backward fill' method, there must be a 'forward fill' method, or 'ffill' in short. However we can't use it here because the NaN is the first value.\n",
        "\n",
        "We can also simply remove NaN values by **_.dropna()_**"
      ]
    },
    {
      "cell_type": "code",
      "metadata": {
        "colab": {
          "base_uri": "https://localhost:8080/"
        },
        "id": "WG5ux1lqHW9-",
        "outputId": "2f19a614-4447-4bd4-f3a8-f7bf073d3ddb"
      },
      "source": [
        "daily_return = last_day.pct_change()\n",
        "daily_return.dropna() #.dropna() permite remover los elementos de la Series que tengan valor NaN"
      ],
      "execution_count": 87,
      "outputs": [
        {
          "output_type": "execute_result",
          "data": {
            "text/plain": [
              "Date\n",
              "2017-02-28    0.133778\n",
              "2017-03-31    0.048690\n",
              "2017-04-30   -0.000070\n",
              "2017-05-31    0.067808\n",
              "2017-06-30   -0.057214\n",
              "2017-07-31    0.032704\n",
              "2017-08-31    0.106999\n",
              "2017-09-30   -0.060244\n",
              "2017-10-31    0.096808\n",
              "2017-11-30    0.020278\n",
              "2017-12-31   -0.015246\n",
              "Freq: M, Name: Close, dtype: float64"
            ]
          },
          "metadata": {},
          "execution_count": 87
        }
      ]
    },
    {
      "cell_type": "markdown",
      "metadata": {
        "id": "nQH2eBWkNjdC"
      },
      "source": [
        "# DataFrame\n",
        "The **DataFrame** is the most commonly used data structure in Pandas. It is essentially a table, just like an Excel spreadsheet.\n",
        "\n",
        "More precisely, a DataFrame is a collection of Series objects, each of which may contain different data types. A DataFrame can be created from various data types: dictionary, 2-D numpy.ndarray, a Series or another DataFrame.\n",
        "\n",
        "## Create DataFrames\n",
        "The most common method of creating a DataFrame is passing a dictionary:"
      ]
    },
    {
      "cell_type": "code",
      "metadata": {
        "colab": {
          "base_uri": "https://localhost:8080/"
        },
        "id": "vd5Wf1ohHW9-",
        "outputId": "1a8d51dd-f17c-4c39-89ba-411e55817700"
      },
      "source": [
        "import pandas as pd\n",
        "\n",
        "dict = {'AAPL': [143.5, 144.09, 142.73, 144.18, 143.77],'GOOG':[898.7, 911.71, 906.69, 918.59, 926.99],\n",
        "        'IBM':[155.58, 153.67, 152.36, 152.94, 153.49]}\n",
        "data_index = pd.date_range('2022-03-15',periods = 5, freq = 'D')\n",
        "df = pd.DataFrame(dict, index = data_index) #Se crea un DataFrame con los datos del diccionario y se usan los indices de fechas de data_index\n",
        "print(df)"
      ],
      "execution_count": 91,
      "outputs": [
        {
          "output_type": "stream",
          "name": "stdout",
          "text": [
            "              AAPL    GOOG     IBM\n",
            "2022-03-15  143.50  898.70  155.58\n",
            "2022-03-16  144.09  911.71  153.67\n",
            "2022-03-17  142.73  906.69  152.36\n",
            "2022-03-18  144.18  918.59  152.94\n",
            "2022-03-19  143.77  926.99  153.49\n"
          ]
        }
      ]
    },
    {
      "cell_type": "markdown",
      "metadata": {
        "id": "0uYmLQTgOPnX"
      },
      "source": [
        "## Manipulating DataFrames\n",
        "We can fetch values in a DataFrame by columns and index. Each column in a DataFrame is essentially a Pandas Series. We can fetch a column by square brackets: **df['column_name']**\n",
        "\n",
        "If a column name contains no spaces, then we can also use df.column_name to fetch a column:"
      ]
    },
    {
      "cell_type": "code",
      "metadata": {
        "colab": {
          "base_uri": "https://localhost:8080/"
        },
        "id": "2pB2f7lBHW9_",
        "outputId": "abae7e02-6b82-4bb7-da69-da7bc546e17c"
      },
      "source": [
        "df = aapl_table\n",
        "print(df.Close.tail(5)) #Se imprime una Series con los datos de la columna Close de los ultimos 5 elementos en el Dataframe df \n",
        "print(df['Volume'].tail(5)) #Se imprime una Series con los datos de la columna Volume de los ultimos 5 elementos en el Dataframe df"
      ],
      "execution_count": 93,
      "outputs": [
        {
          "output_type": "stream",
          "name": "stdout",
          "text": [
            "Date\n",
            "2017-12-22    41.792461\n",
            "2017-12-26    40.732178\n",
            "2017-12-27    40.739346\n",
            "2017-12-28    40.853970\n",
            "2017-12-29    40.412193\n",
            "Name: Close, dtype: float64\n",
            "Date\n",
            "2017-12-22     65397600\n",
            "2017-12-26    132742000\n",
            "2017-12-27     85992800\n",
            "2017-12-28     65920800\n",
            "2017-12-29    103999600\n",
            "Name: Volume, dtype: int64\n"
          ]
        }
      ]
    },
    {
      "cell_type": "markdown",
      "metadata": {
        "id": "z0ugOel9O4-P"
      },
      "source": [
        "All the methods we applied to a Series index such as iloc[], loc[] and resampling methods, can also be applied to a DataFrame:"
      ]
    },
    {
      "cell_type": "code",
      "metadata": {
        "colab": {
          "base_uri": "https://localhost:8080/"
        },
        "id": "_8dfjkedHW9_",
        "outputId": "e7e3b8a0-91a9-44e3-d1f2-9490a1c06163"
      },
      "source": [
        "#Se imprimen los valores de los ultimos dias de cada mes de 2016 de los elementos en el Dataframe df\n",
        "aapl_2016 = df['2016']\n",
        "aapl_month = aapl_2016.resample('M').agg(lambda x: x[-1]) \n",
        "print(aapl_month)"
      ],
      "execution_count": 94,
      "outputs": [
        {
          "output_type": "stream",
          "name": "stdout",
          "text": [
            "                 Open       High        Low      Close     Volume  Dividends  \\\n",
            "Date                                                                           \n",
            "2016-01-31  21.792770  22.379028  21.691611  22.379028  257666000        0.0   \n",
            "2016-02-29  22.389512  22.706192  22.340970  22.350216  140865200        0.0   \n",
            "2016-03-31  25.362146  25.403754  25.167976  25.193403  103553600        0.0   \n",
            "2016-04-30  21.726104  21.894847  21.383998  21.668316  274126000        0.0   \n",
            "2016-05-31  23.163043  23.349092  22.981646  23.223509  169228800        0.0   \n",
            "2016-06-30  21.963034  22.272338  21.930475  22.232803  143345600        0.0   \n",
            "2016-07-31  24.230499  24.314221  24.111893  24.235149  110934800        0.0   \n",
            "2016-08-31  24.705481  24.918257  24.700804  24.808361  118649600        0.0   \n",
            "2016-09-30  26.295461  26.508239  26.141141  26.433416  145516400        0.0   \n",
            "2016-10-31  26.573704  26.709320  26.468483  26.547983  105677600        0.0   \n",
            "2016-11-30  26.228352  26.369365  25.915774  25.974529  144649200        0.0   \n",
            "2016-12-31  27.415205  27.544465  27.128479  27.220137  122345200        0.0   \n",
            "\n",
            "            Stock Splits  \n",
            "Date                      \n",
            "2016-01-31             0  \n",
            "2016-02-29             0  \n",
            "2016-03-31             0  \n",
            "2016-04-30             0  \n",
            "2016-05-31             0  \n",
            "2016-06-30             0  \n",
            "2016-07-31             0  \n",
            "2016-08-31             0  \n",
            "2016-09-30             0  \n",
            "2016-10-31             0  \n",
            "2016-11-30             0  \n",
            "2016-12-31             0  \n"
          ]
        },
        {
          "output_type": "stream",
          "name": "stderr",
          "text": [
            "/usr/local/lib/python3.7/dist-packages/ipykernel_launcher.py:1: FutureWarning: Indexing a DataFrame with a datetimelike index using a single string to slice the rows, like `frame[string]`, is deprecated and will be removed in a future version. Use `frame.loc[string]` instead.\n",
            "  \"\"\"Entry point for launching an IPython kernel.\n"
          ]
        }
      ]
    },
    {
      "cell_type": "markdown",
      "metadata": {
        "id": "CqrbrbFZPTJe"
      },
      "source": [
        "We may select certain columns of a DataFrame using their names:"
      ]
    },
    {
      "cell_type": "code",
      "metadata": {
        "colab": {
          "base_uri": "https://localhost:8080/"
        },
        "id": "7bQGeyCAHW9_",
        "outputId": "ae788e30-2c3b-4b61-b497-f7be277a5071"
      },
      "source": [
        "#Se imprimen unicamente los datos de las columnas Open, High, Low, Close y Volume del dataframe aapl_month\n",
        "aapl_bar = aapl_month[['Open', 'High', 'Low', 'Close', 'Volume']] \n",
        "print(aapl_bar)"
      ],
      "execution_count": 96,
      "outputs": [
        {
          "output_type": "stream",
          "name": "stdout",
          "text": [
            "                 Open       High        Low      Close     Volume\n",
            "Date                                                             \n",
            "2016-01-31  21.792770  22.379028  21.691611  22.379028  257666000\n",
            "2016-02-29  22.389512  22.706192  22.340970  22.350216  140865200\n",
            "2016-03-31  25.362146  25.403754  25.167976  25.193403  103553600\n",
            "2016-04-30  21.726104  21.894847  21.383998  21.668316  274126000\n",
            "2016-05-31  23.163043  23.349092  22.981646  23.223509  169228800\n",
            "2016-06-30  21.963034  22.272338  21.930475  22.232803  143345600\n",
            "2016-07-31  24.230499  24.314221  24.111893  24.235149  110934800\n",
            "2016-08-31  24.705481  24.918257  24.700804  24.808361  118649600\n",
            "2016-09-30  26.295461  26.508239  26.141141  26.433416  145516400\n",
            "2016-10-31  26.573704  26.709320  26.468483  26.547983  105677600\n",
            "2016-11-30  26.228352  26.369365  25.915774  25.974529  144649200\n",
            "2016-12-31  27.415205  27.544465  27.128479  27.220137  122345200\n"
          ]
        }
      ]
    },
    {
      "cell_type": "markdown",
      "metadata": {
        "id": "8CQaZCAQP68O"
      },
      "source": [
        "We can even specify both rows and columns using loc[]. The row indices and column names are separated by a comma:"
      ]
    },
    {
      "cell_type": "code",
      "metadata": {
        "colab": {
          "base_uri": "https://localhost:8080/"
        },
        "id": "YjWWiHVpHW-A",
        "outputId": "379735c6-459d-4d67-f648-b074738f9a06"
      },
      "source": [
        "#Se imprimen unicamente los valores de las columnas Open, High, Low, Close y Volume de los datos entre el mes 06 y 09 de 2016 del DataFrame aapl_month\n",
        "print(aapl_month.loc['2016-06':'2016-09',['Open', 'High', 'Low', 'Close', 'Volume']])"
      ],
      "execution_count": 98,
      "outputs": [
        {
          "output_type": "stream",
          "name": "stdout",
          "text": [
            "                 Open       High        Low      Close     Volume\n",
            "Date                                                             \n",
            "2016-06-30  21.963034  22.272338  21.930475  22.232803  143345600\n",
            "2016-07-31  24.230499  24.314221  24.111893  24.235149  110934800\n",
            "2016-08-31  24.705481  24.918257  24.700804  24.808361  118649600\n",
            "2016-09-30  26.295461  26.508239  26.141141  26.433416  145516400\n"
          ]
        }
      ]
    },
    {
      "cell_type": "markdown",
      "metadata": {
        "id": "Xcn_pHNLQBEH"
      },
      "source": [
        "The subset methods in DataFrame is quite useful. By writing logical statements in square brackets, we can make customized subsets:"
      ]
    },
    {
      "cell_type": "code",
      "metadata": {
        "colab": {
          "base_uri": "https://localhost:8080/"
        },
        "id": "RxKg4dObHW-A",
        "outputId": "11a80289-5a48-4b94-e723-689feca5e66c"
      },
      "source": [
        "import numpy as np\n",
        "#Se imprimen unicamente los valores de las columnas Open, High, Low, Close y Volume de los datos que tienen un valor de Close mayor a la media\n",
        "above = aapl_bar[aapl_bar.Close > np.mean(aapl_bar.Close)]\n",
        "print(above)"
      ],
      "execution_count": 100,
      "outputs": [
        {
          "output_type": "stream",
          "name": "stdout",
          "text": [
            "                 Open       High        Low      Close     Volume\n",
            "Date                                                             \n",
            "2016-03-31  25.362146  25.403754  25.167976  25.193403  103553600\n",
            "2016-08-31  24.705481  24.918257  24.700804  24.808361  118649600\n",
            "2016-09-30  26.295461  26.508239  26.141141  26.433416  145516400\n",
            "2016-10-31  26.573704  26.709320  26.468483  26.547983  105677600\n",
            "2016-11-30  26.228352  26.369365  25.915774  25.974529  144649200\n",
            "2016-12-31  27.415205  27.544465  27.128479  27.220137  122345200\n"
          ]
        }
      ]
    },
    {
      "cell_type": "markdown",
      "metadata": {
        "id": "wcm_UadkQLL5"
      },
      "source": [
        "## Data Validation\n",
        "As mentioned, all methods that apply to a Series can also be applied to a DataFrame. Here we add a new column to an existing DataFrame:"
      ]
    },
    {
      "cell_type": "code",
      "metadata": {
        "colab": {
          "base_uri": "https://localhost:8080/"
        },
        "id": "jZXFdOVFHW-A",
        "outputId": "6f359df2-9aac-4313-a0b4-c7f6049a860b"
      },
      "source": [
        "#Se agrega la columna rate_return al dataframe aapl_bar, que contiene el porcentaje de cambio en la Columna Close\n",
        "aapl_bar['rate_return'] = aapl_bar.Close.pct_change()\n",
        "print(aapl_bar)"
      ],
      "execution_count": 103,
      "outputs": [
        {
          "output_type": "stream",
          "name": "stdout",
          "text": [
            "                 Open       High        Low      Close     Volume  rate_return\n",
            "Date                                                                          \n",
            "2016-01-31  21.792770  22.379028  21.691611  22.379028  257666000          NaN\n",
            "2016-02-29  22.389512  22.706192  22.340970  22.350216  140865200    -0.001287\n",
            "2016-03-31  25.362146  25.403754  25.167976  25.193403  103553600     0.127211\n",
            "2016-04-30  21.726104  21.894847  21.383998  21.668316  274126000    -0.139921\n",
            "2016-05-31  23.163043  23.349092  22.981646  23.223509  169228800     0.071773\n",
            "2016-06-30  21.963034  22.272338  21.930475  22.232803  143345600    -0.042660\n",
            "2016-07-31  24.230499  24.314221  24.111893  24.235149  110934800     0.090063\n",
            "2016-08-31  24.705481  24.918257  24.700804  24.808361  118649600     0.023652\n",
            "2016-09-30  26.295461  26.508239  26.141141  26.433416  145516400     0.065504\n",
            "2016-10-31  26.573704  26.709320  26.468483  26.547983  105677600     0.004334\n",
            "2016-11-30  26.228352  26.369365  25.915774  25.974529  144649200    -0.021601\n",
            "2016-12-31  27.415205  27.544465  27.128479  27.220137  122345200     0.047955\n"
          ]
        },
        {
          "output_type": "stream",
          "name": "stderr",
          "text": [
            "/usr/local/lib/python3.7/dist-packages/ipykernel_launcher.py:2: SettingWithCopyWarning: \n",
            "A value is trying to be set on a copy of a slice from a DataFrame.\n",
            "Try using .loc[row_indexer,col_indexer] = value instead\n",
            "\n",
            "See the caveats in the documentation: https://pandas.pydata.org/pandas-docs/stable/user_guide/indexing.html#returning-a-view-versus-a-copy\n",
            "  \n"
          ]
        }
      ]
    },
    {
      "cell_type": "markdown",
      "metadata": {
        "id": "_or6n5-LQUa-"
      },
      "source": [
        "Here the calculation introduced a NaN value. If the DataFrame is large, we would not be able to observe it. **isnull()** provides a convenient way to check abnormal values."
      ]
    },
    {
      "cell_type": "code",
      "metadata": {
        "colab": {
          "base_uri": "https://localhost:8080/"
        },
        "id": "V5wgmhIPHW-B",
        "outputId": "894dff15-6eaa-4f68-aca5-4acb9b869f07"
      },
      "source": [
        "#Se obtiene un dataframe missing que indica si hay algun valor NaN por medio del metodo .isnull()\n",
        "missing = aapl_bar.isnull()\n",
        "print(missing)\n",
        "print('---------------------------------------------')\n",
        "print(missing.describe())"
      ],
      "execution_count": 104,
      "outputs": [
        {
          "output_type": "stream",
          "name": "stdout",
          "text": [
            "             Open   High    Low  Close  Volume  rate_return\n",
            "Date                                                       \n",
            "2016-01-31  False  False  False  False   False         True\n",
            "2016-02-29  False  False  False  False   False        False\n",
            "2016-03-31  False  False  False  False   False        False\n",
            "2016-04-30  False  False  False  False   False        False\n",
            "2016-05-31  False  False  False  False   False        False\n",
            "2016-06-30  False  False  False  False   False        False\n",
            "2016-07-31  False  False  False  False   False        False\n",
            "2016-08-31  False  False  False  False   False        False\n",
            "2016-09-30  False  False  False  False   False        False\n",
            "2016-10-31  False  False  False  False   False        False\n",
            "2016-11-30  False  False  False  False   False        False\n",
            "2016-12-31  False  False  False  False   False        False\n",
            "---------------------------------------------\n",
            "         Open   High    Low  Close Volume rate_return\n",
            "count      12     12     12     12     12          12\n",
            "unique      1      1      1      1      1           2\n",
            "top     False  False  False  False  False       False\n",
            "freq       12     12     12     12     12          11\n"
          ]
        }
      ]
    },
    {
      "cell_type": "markdown",
      "metadata": {
        "id": "d6KFV4i0QfLW"
      },
      "source": [
        "The row labelled \"unique\" indicates the number of unique values in each column. Since the \"rate_return\" column has 2 unique values, it has at least one missing value.\n",
        "\n",
        "We can deduce the number of missing values by comparing \"count\" with \"freq\". There are 12 counts and 11 False values, so there is one True value which corresponds to the missing value.\n",
        "\n",
        "We can also find the rows with missing values easily:"
      ]
    },
    {
      "cell_type": "code",
      "metadata": {
        "colab": {
          "base_uri": "https://localhost:8080/"
        },
        "id": "Eo0ZAhCsHW-B",
        "outputId": "83b13ce1-e3c2-41a9-e15e-cf47c923f942"
      },
      "source": [
        "print(missing[missing.rate_return == True]) #Imprime los elementos del dataframe que tienen un valor NaN indicando en cual de sus columnas esta"
      ],
      "execution_count": 106,
      "outputs": [
        {
          "output_type": "stream",
          "name": "stdout",
          "text": [
            "             Open   High    Low  Close  Volume  rate_return\n",
            "Date                                                       \n",
            "2016-01-31  False  False  False  False   False         True\n"
          ]
        }
      ]
    },
    {
      "cell_type": "markdown",
      "metadata": {
        "id": "qgggpD8OQkZX"
      },
      "source": [
        "Usually when dealing with missing data, we either delete the whole row or fill it with some value. As we introduced in the Series chapter, the same method **dropna()** and **fillna()** can be applied to a DataFrame."
      ]
    },
    {
      "cell_type": "code",
      "metadata": {
        "colab": {
          "base_uri": "https://localhost:8080/"
        },
        "id": "j8PaIokjHW-B",
        "outputId": "8409379f-d632-4a26-a868-bd7cdbfa8461"
      },
      "source": [
        "drop = aapl_bar.dropna() #Elimina las filas del dataframe que tengan NaN\n",
        "print(drop)\n",
        "print('\\n--------------------------------------------------\\n')\n",
        "fill = aapl_bar.fillna(0) #Pone el valor 0 en las celdas del dataframe que tengan NaN\n",
        "print(fill)"
      ],
      "execution_count": 108,
      "outputs": [
        {
          "output_type": "stream",
          "name": "stdout",
          "text": [
            "                 Open       High        Low      Close     Volume  rate_return\n",
            "Date                                                                          \n",
            "2016-02-29  22.389512  22.706192  22.340970  22.350216  140865200    -0.001287\n",
            "2016-03-31  25.362146  25.403754  25.167976  25.193403  103553600     0.127211\n",
            "2016-04-30  21.726104  21.894847  21.383998  21.668316  274126000    -0.139921\n",
            "2016-05-31  23.163043  23.349092  22.981646  23.223509  169228800     0.071773\n",
            "2016-06-30  21.963034  22.272338  21.930475  22.232803  143345600    -0.042660\n",
            "2016-07-31  24.230499  24.314221  24.111893  24.235149  110934800     0.090063\n",
            "2016-08-31  24.705481  24.918257  24.700804  24.808361  118649600     0.023652\n",
            "2016-09-30  26.295461  26.508239  26.141141  26.433416  145516400     0.065504\n",
            "2016-10-31  26.573704  26.709320  26.468483  26.547983  105677600     0.004334\n",
            "2016-11-30  26.228352  26.369365  25.915774  25.974529  144649200    -0.021601\n",
            "2016-12-31  27.415205  27.544465  27.128479  27.220137  122345200     0.047955\n",
            "\n",
            "--------------------------------------------------\n",
            "\n",
            "                 Open       High        Low      Close     Volume  rate_return\n",
            "Date                                                                          \n",
            "2016-01-31  21.792770  22.379028  21.691611  22.379028  257666000     0.000000\n",
            "2016-02-29  22.389512  22.706192  22.340970  22.350216  140865200    -0.001287\n",
            "2016-03-31  25.362146  25.403754  25.167976  25.193403  103553600     0.127211\n",
            "2016-04-30  21.726104  21.894847  21.383998  21.668316  274126000    -0.139921\n",
            "2016-05-31  23.163043  23.349092  22.981646  23.223509  169228800     0.071773\n",
            "2016-06-30  21.963034  22.272338  21.930475  22.232803  143345600    -0.042660\n",
            "2016-07-31  24.230499  24.314221  24.111893  24.235149  110934800     0.090063\n",
            "2016-08-31  24.705481  24.918257  24.700804  24.808361  118649600     0.023652\n",
            "2016-09-30  26.295461  26.508239  26.141141  26.433416  145516400     0.065504\n",
            "2016-10-31  26.573704  26.709320  26.468483  26.547983  105677600     0.004334\n",
            "2016-11-30  26.228352  26.369365  25.915774  25.974529  144649200    -0.021601\n",
            "2016-12-31  27.415205  27.544465  27.128479  27.220137  122345200     0.047955\n"
          ]
        }
      ]
    },
    {
      "cell_type": "markdown",
      "metadata": {
        "id": "0tvoFlKWQxYG"
      },
      "source": [
        "## DataFrame Concat\n",
        "We have seen how to extract a Series from a dataFrame. Now we need to consider how to merge a Series or a DataFrame into another one.\n",
        "\n",
        "In Pandas, the function **concat()** allows us to merge multiple Series into a DataFrame:"
      ]
    },
    {
      "cell_type": "code",
      "metadata": {
        "colab": {
          "base_uri": "https://localhost:8080/"
        },
        "id": "uQrmLIWKHW-C",
        "outputId": "b3bfae0c-4617-4b2d-dc5f-dbd6af36e9cb"
      },
      "source": [
        "s1 = pd.Series([143.5, 144.09, 142.73, 144.18, 143.77], name = 'AAPL')\n",
        "s2 = pd.Series([898.7, 911.71, 906.69, 918.59, 926.99], name = 'GOOG')\n",
        "data_frame = pd.concat([s1,s2], axis = 1) #Formar un dataframe concatenando las series s1 y s2 como columnas\n",
        "print(data_frame)"
      ],
      "execution_count": 109,
      "outputs": [
        {
          "output_type": "stream",
          "name": "stdout",
          "text": [
            "     AAPL    GOOG\n",
            "0  143.50  898.70\n",
            "1  144.09  911.71\n",
            "2  142.73  906.69\n",
            "3  144.18  918.59\n",
            "4  143.77  926.99\n"
          ]
        }
      ]
    },
    {
      "cell_type": "markdown",
      "metadata": {
        "id": "3ojbNYJLR2vv"
      },
      "source": [
        "The \"axis = 1\" parameter will join two DataFrames by columns:"
      ]
    },
    {
      "cell_type": "code",
      "metadata": {
        "colab": {
          "base_uri": "https://localhost:8080/"
        },
        "id": "DJsaLd-cRoIm",
        "outputId": "f68e78b5-db36-456b-b829-45c7785026dd"
      },
      "source": [
        "#Se calcula el logaritmo del valor de Close de cada fila del DataFrame aapl_bar y el resultado se almacena en el DataFrame log_price\n",
        "log_price = np.log(aapl_bar.Close)\n",
        "log_price.name = 'log_price' \n",
        "print(log_price)\n",
        "print('\\n---------------------- separate line--------------------\\n')\n",
        "concat = pd.concat([aapl_bar, log_price], axis = 1) #Se une el dataframe aapl_bar con log_price por medio de sus columnas\n",
        "print(concat)"
      ],
      "execution_count": 113,
      "outputs": [
        {
          "output_type": "stream",
          "name": "stdout",
          "text": [
            "Date\n",
            "2016-01-31    3.108124\n",
            "2016-02-29    3.106836\n",
            "2016-03-31    3.226582\n",
            "2016-04-30    3.075851\n",
            "2016-05-31    3.145165\n",
            "2016-06-30    3.101569\n",
            "2016-07-31    3.187804\n",
            "2016-08-31    3.211181\n",
            "2016-09-30    3.274629\n",
            "2016-10-31    3.278954\n",
            "2016-11-30    3.257116\n",
            "2016-12-31    3.303957\n",
            "Freq: M, Name: log_price, dtype: float64\n",
            "\n",
            "---------------------- separate line--------------------\n",
            "\n",
            "                 Open       High        Low      Close     Volume  \\\n",
            "Date                                                                \n",
            "2016-01-31  21.792770  22.379028  21.691611  22.379028  257666000   \n",
            "2016-02-29  22.389512  22.706192  22.340970  22.350216  140865200   \n",
            "2016-03-31  25.362146  25.403754  25.167976  25.193403  103553600   \n",
            "2016-04-30  21.726104  21.894847  21.383998  21.668316  274126000   \n",
            "2016-05-31  23.163043  23.349092  22.981646  23.223509  169228800   \n",
            "2016-06-30  21.963034  22.272338  21.930475  22.232803  143345600   \n",
            "2016-07-31  24.230499  24.314221  24.111893  24.235149  110934800   \n",
            "2016-08-31  24.705481  24.918257  24.700804  24.808361  118649600   \n",
            "2016-09-30  26.295461  26.508239  26.141141  26.433416  145516400   \n",
            "2016-10-31  26.573704  26.709320  26.468483  26.547983  105677600   \n",
            "2016-11-30  26.228352  26.369365  25.915774  25.974529  144649200   \n",
            "2016-12-31  27.415205  27.544465  27.128479  27.220137  122345200   \n",
            "\n",
            "            rate_return  log_price  \n",
            "Date                                \n",
            "2016-01-31          NaN   3.108124  \n",
            "2016-02-29    -0.001287   3.106836  \n",
            "2016-03-31     0.127211   3.226582  \n",
            "2016-04-30    -0.139921   3.075851  \n",
            "2016-05-31     0.071773   3.145165  \n",
            "2016-06-30    -0.042660   3.101569  \n",
            "2016-07-31     0.090063   3.187804  \n",
            "2016-08-31     0.023652   3.211181  \n",
            "2016-09-30     0.065504   3.274629  \n",
            "2016-10-31     0.004334   3.278954  \n",
            "2016-11-30    -0.021601   3.257116  \n",
            "2016-12-31     0.047955   3.303957  \n"
          ]
        }
      ]
    },
    {
      "cell_type": "markdown",
      "metadata": {
        "id": "mIZz-FUyR_62"
      },
      "source": [
        "We can also join two DataFrames by rows. Consider these two DataFrames:"
      ]
    },
    {
      "cell_type": "code",
      "metadata": {
        "colab": {
          "base_uri": "https://localhost:8080/"
        },
        "id": "W7uXZptLHW-C",
        "outputId": "6a4ce00b-cf32-4a70-945b-e92d3c5328f0"
      },
      "source": [
        "df_volume = aapl_table.loc['2016-10':'2017-04',['Volume', 'Stock Splits']].resample('M').agg(lambda x: x[-1])\n",
        "print(df_volume)\n",
        "print('\\n---------------------- separate line--------------------\\n')\n",
        "df_2017 = aapl_table.loc['2016-10':'2017-04',['Open', 'High', 'Low', 'Close']].resample('M').agg(lambda x: x[-1])\n",
        "print(df_2017)"
      ],
      "execution_count": 119,
      "outputs": [
        {
          "output_type": "stream",
          "name": "stdout",
          "text": [
            "               Volume  Stock Splits\n",
            "Date                               \n",
            "2016-10-31  105677600             0\n",
            "2016-11-30  144649200             0\n",
            "2016-12-31  122345200             0\n",
            "2017-01-31  196804000             0\n",
            "2017-02-28   93931600             0\n",
            "2017-03-31   78646800             0\n",
            "2017-04-30   83441600             0\n",
            "\n",
            "---------------------- separate line--------------------\n",
            "\n",
            "                 Open       High        Low      Close\n",
            "Date                                                  \n",
            "2016-10-31  26.573704  26.709320  26.468483  26.547983\n",
            "2016-11-30  26.228352  26.369365  25.915774  25.974529\n",
            "2016-12-31  27.415205  27.544465  27.128479  27.220137\n",
            "2017-01-31  28.472797  28.529201  28.348236  28.519800\n",
            "2017-02-28  32.356360  32.441335  32.266664  32.335117\n",
            "2017-03-31  33.923670  34.053492  33.756080  33.909508\n",
            "2017-04-30  34.011001  34.060571  33.817450  33.907143\n"
          ]
        }
      ]
    },
    {
      "cell_type": "markdown",
      "metadata": {
        "id": "iZk_C9aSSLeP"
      },
      "source": [
        "Now we merge the DataFrames with our DataFrame 'aapl_bar'"
      ]
    },
    {
      "cell_type": "code",
      "metadata": {
        "colab": {
          "base_uri": "https://localhost:8080/"
        },
        "id": "aFqmjokOHW-C",
        "outputId": "0d50bf7c-a781-4404-ccc3-e814325cffa2"
      },
      "source": [
        "concat = pd.concat([aapl_bar, df_volume], axis = 1) #Une las columnas del Dataframe aapl_bar con las del dataframe df_volume\n",
        "print(concat)"
      ],
      "execution_count": 120,
      "outputs": [
        {
          "output_type": "stream",
          "name": "stdout",
          "text": [
            "                 Open       High        Low      Close       Volume  \\\n",
            "Date                                                                  \n",
            "2016-01-31  21.792770  22.379028  21.691611  22.379028  257666000.0   \n",
            "2016-02-29  22.389512  22.706192  22.340970  22.350216  140865200.0   \n",
            "2016-03-31  25.362146  25.403754  25.167976  25.193403  103553600.0   \n",
            "2016-04-30  21.726104  21.894847  21.383998  21.668316  274126000.0   \n",
            "2016-05-31  23.163043  23.349092  22.981646  23.223509  169228800.0   \n",
            "2016-06-30  21.963034  22.272338  21.930475  22.232803  143345600.0   \n",
            "2016-07-31  24.230499  24.314221  24.111893  24.235149  110934800.0   \n",
            "2016-08-31  24.705481  24.918257  24.700804  24.808361  118649600.0   \n",
            "2016-09-30  26.295461  26.508239  26.141141  26.433416  145516400.0   \n",
            "2016-10-31  26.573704  26.709320  26.468483  26.547983  105677600.0   \n",
            "2016-11-30  26.228352  26.369365  25.915774  25.974529  144649200.0   \n",
            "2016-12-31  27.415205  27.544465  27.128479  27.220137  122345200.0   \n",
            "2017-01-31        NaN        NaN        NaN        NaN          NaN   \n",
            "2017-02-28        NaN        NaN        NaN        NaN          NaN   \n",
            "2017-03-31        NaN        NaN        NaN        NaN          NaN   \n",
            "2017-04-30        NaN        NaN        NaN        NaN          NaN   \n",
            "\n",
            "            rate_return       Volume  Stock Splits  \n",
            "Date                                                \n",
            "2016-01-31          NaN          NaN           NaN  \n",
            "2016-02-29    -0.001287          NaN           NaN  \n",
            "2016-03-31     0.127211          NaN           NaN  \n",
            "2016-04-30    -0.139921          NaN           NaN  \n",
            "2016-05-31     0.071773          NaN           NaN  \n",
            "2016-06-30    -0.042660          NaN           NaN  \n",
            "2016-07-31     0.090063          NaN           NaN  \n",
            "2016-08-31     0.023652          NaN           NaN  \n",
            "2016-09-30     0.065504          NaN           NaN  \n",
            "2016-10-31     0.004334  105677600.0           0.0  \n",
            "2016-11-30    -0.021601  144649200.0           0.0  \n",
            "2016-12-31     0.047955  122345200.0           0.0  \n",
            "2017-01-31          NaN  196804000.0           0.0  \n",
            "2017-02-28          NaN   93931600.0           0.0  \n",
            "2017-03-31          NaN   78646800.0           0.0  \n",
            "2017-04-30          NaN   83441600.0           0.0  \n"
          ]
        }
      ]
    },
    {
      "cell_type": "markdown",
      "metadata": {
        "id": "7yI3tgB4SR4O"
      },
      "source": [
        "By default the DataFrame are joined with all of the data. This default options results in zero information loss. We can also merge them by intersection, this is called 'inner join"
      ]
    },
    {
      "cell_type": "code",
      "metadata": {
        "colab": {
          "base_uri": "https://localhost:8080/"
        },
        "id": "31QGLyijHW-C",
        "outputId": "cc65c0e9-9cac-48df-a50d-725b3eba0c52"
      },
      "source": [
        "#Une las columnas del Dataframe aapl_bar con las del dataframe df_volume, pero con una inner join, entonces unicamente almacena las filas que compartian ambos DataFrame\n",
        "concat = pd.concat([aapl_bar,df_volume],axis = 1, join = 'inner')\n",
        "print(concat)"
      ],
      "execution_count": 123,
      "outputs": [
        {
          "output_type": "stream",
          "name": "stdout",
          "text": [
            "                 Open       High        Low      Close     Volume  \\\n",
            "Date                                                                \n",
            "2016-10-31  26.573704  26.709320  26.468483  26.547983  105677600   \n",
            "2016-11-30  26.228352  26.369365  25.915774  25.974529  144649200   \n",
            "2016-12-31  27.415205  27.544465  27.128479  27.220137  122345200   \n",
            "\n",
            "            rate_return     Volume  Stock Splits  \n",
            "Date                                              \n",
            "2016-10-31     0.004334  105677600             0  \n",
            "2016-11-30    -0.021601  144649200             0  \n",
            "2016-12-31     0.047955  122345200             0  \n"
          ]
        }
      ]
    },
    {
      "cell_type": "markdown",
      "metadata": {
        "id": "oudcWMm5Sd0u"
      },
      "source": [
        "Only the intersection part was left if use 'inner join' method. Now let's try to append a DataFrame to another one:"
      ]
    },
    {
      "cell_type": "code",
      "metadata": {
        "colab": {
          "base_uri": "https://localhost:8080/"
        },
        "id": "lgw0qaOsHW-D",
        "outputId": "d262ccce-2359-49b4-868f-c0655d123702"
      },
      "source": [
        "#Se añaden las filas del dataframe df_2017 al final del dataframe aapl_bar y se almacenan en una variable.\n",
        "#Si los dos dataframe tienen columnas con igual nombre, los datos de ambos dataframe se ponen en la misma columna\n",
        "append = aapl_bar.append(df_2017)\n",
        "print(append)"
      ],
      "execution_count": 131,
      "outputs": [
        {
          "output_type": "stream",
          "name": "stdout",
          "text": [
            "                 Open       High        Low      Close       Volume  \\\n",
            "Date                                                                  \n",
            "2016-01-31  21.792770  22.379028  21.691611  22.379028  257666000.0   \n",
            "2016-02-29  22.389512  22.706192  22.340970  22.350216  140865200.0   \n",
            "2016-03-31  25.362146  25.403754  25.167976  25.193403  103553600.0   \n",
            "2016-04-30  21.726104  21.894847  21.383998  21.668316  274126000.0   \n",
            "2016-05-31  23.163043  23.349092  22.981646  23.223509  169228800.0   \n",
            "2016-06-30  21.963034  22.272338  21.930475  22.232803  143345600.0   \n",
            "2016-07-31  24.230499  24.314221  24.111893  24.235149  110934800.0   \n",
            "2016-08-31  24.705481  24.918257  24.700804  24.808361  118649600.0   \n",
            "2016-09-30  26.295461  26.508239  26.141141  26.433416  145516400.0   \n",
            "2016-10-31  26.573704  26.709320  26.468483  26.547983  105677600.0   \n",
            "2016-11-30  26.228352  26.369365  25.915774  25.974529  144649200.0   \n",
            "2016-12-31  27.415205  27.544465  27.128479  27.220137  122345200.0   \n",
            "2016-10-31  26.573704  26.709320  26.468483  26.547983          NaN   \n",
            "2016-11-30  26.228352  26.369365  25.915774  25.974529          NaN   \n",
            "2016-12-31  27.415205  27.544465  27.128479  27.220137          NaN   \n",
            "2017-01-31  28.472797  28.529201  28.348236  28.519800          NaN   \n",
            "2017-02-28  32.356360  32.441335  32.266664  32.335117          NaN   \n",
            "2017-03-31  33.923670  34.053492  33.756080  33.909508          NaN   \n",
            "2017-04-30  34.011001  34.060571  33.817450  33.907143          NaN   \n",
            "\n",
            "            rate_return  \n",
            "Date                     \n",
            "2016-01-31          NaN  \n",
            "2016-02-29    -0.001287  \n",
            "2016-03-31     0.127211  \n",
            "2016-04-30    -0.139921  \n",
            "2016-05-31     0.071773  \n",
            "2016-06-30    -0.042660  \n",
            "2016-07-31     0.090063  \n",
            "2016-08-31     0.023652  \n",
            "2016-09-30     0.065504  \n",
            "2016-10-31     0.004334  \n",
            "2016-11-30    -0.021601  \n",
            "2016-12-31     0.047955  \n",
            "2016-10-31          NaN  \n",
            "2016-11-30          NaN  \n",
            "2016-12-31          NaN  \n",
            "2017-01-31          NaN  \n",
            "2017-02-28          NaN  \n",
            "2017-03-31          NaN  \n",
            "2017-04-30          NaN  \n"
          ]
        }
      ]
    },
    {
      "cell_type": "markdown",
      "metadata": {
        "id": "zXT6cMquSq_P"
      },
      "source": [
        "'Append' is essentially to concat two DataFrames by axis = 0, thus here is an alternative way to append:"
      ]
    },
    {
      "cell_type": "code",
      "metadata": {
        "colab": {
          "base_uri": "https://localhost:8080/"
        },
        "id": "2EuSaFO9HW-D",
        "outputId": "106036a6-2466-4da9-b998-d36dbd884c08"
      },
      "source": [
        "#Se añaden las filas del dataframe df_2017 al final del dataframe aapl_bar y se almacenan en una variable.\n",
        "#Si los dos dataframe tienen columnas con igual nombre, los datos de ambos dataframe se ponen en la misma columna\n",
        "concat = pd.concat([aapl_bar, df_2017], axis = 0)\n",
        "print(concat)"
      ],
      "execution_count": 132,
      "outputs": [
        {
          "output_type": "stream",
          "name": "stdout",
          "text": [
            "                 Open       High        Low      Close       Volume  \\\n",
            "Date                                                                  \n",
            "2016-01-31  21.792770  22.379028  21.691611  22.379028  257666000.0   \n",
            "2016-02-29  22.389512  22.706192  22.340970  22.350216  140865200.0   \n",
            "2016-03-31  25.362146  25.403754  25.167976  25.193403  103553600.0   \n",
            "2016-04-30  21.726104  21.894847  21.383998  21.668316  274126000.0   \n",
            "2016-05-31  23.163043  23.349092  22.981646  23.223509  169228800.0   \n",
            "2016-06-30  21.963034  22.272338  21.930475  22.232803  143345600.0   \n",
            "2016-07-31  24.230499  24.314221  24.111893  24.235149  110934800.0   \n",
            "2016-08-31  24.705481  24.918257  24.700804  24.808361  118649600.0   \n",
            "2016-09-30  26.295461  26.508239  26.141141  26.433416  145516400.0   \n",
            "2016-10-31  26.573704  26.709320  26.468483  26.547983  105677600.0   \n",
            "2016-11-30  26.228352  26.369365  25.915774  25.974529  144649200.0   \n",
            "2016-12-31  27.415205  27.544465  27.128479  27.220137  122345200.0   \n",
            "2016-10-31  26.573704  26.709320  26.468483  26.547983          NaN   \n",
            "2016-11-30  26.228352  26.369365  25.915774  25.974529          NaN   \n",
            "2016-12-31  27.415205  27.544465  27.128479  27.220137          NaN   \n",
            "2017-01-31  28.472797  28.529201  28.348236  28.519800          NaN   \n",
            "2017-02-28  32.356360  32.441335  32.266664  32.335117          NaN   \n",
            "2017-03-31  33.923670  34.053492  33.756080  33.909508          NaN   \n",
            "2017-04-30  34.011001  34.060571  33.817450  33.907143          NaN   \n",
            "\n",
            "            rate_return  \n",
            "Date                     \n",
            "2016-01-31          NaN  \n",
            "2016-02-29    -0.001287  \n",
            "2016-03-31     0.127211  \n",
            "2016-04-30    -0.139921  \n",
            "2016-05-31     0.071773  \n",
            "2016-06-30    -0.042660  \n",
            "2016-07-31     0.090063  \n",
            "2016-08-31     0.023652  \n",
            "2016-09-30     0.065504  \n",
            "2016-10-31     0.004334  \n",
            "2016-11-30    -0.021601  \n",
            "2016-12-31     0.047955  \n",
            "2016-10-31          NaN  \n",
            "2016-11-30          NaN  \n",
            "2016-12-31          NaN  \n",
            "2017-01-31          NaN  \n",
            "2017-02-28          NaN  \n",
            "2017-03-31          NaN  \n",
            "2017-04-30          NaN  \n"
          ]
        }
      ]
    },
    {
      "cell_type": "markdown",
      "metadata": {
        "id": "-YXL7V9ASst9"
      },
      "source": [
        "Please note that if the two DataFrame have some columns with the same column names, these columns are considered to be the same and will be merged. It's very important to have the right column names. If we change a column names here:"
      ]
    },
    {
      "cell_type": "code",
      "metadata": {
        "colab": {
          "base_uri": "https://localhost:8080/"
        },
        "id": "aT1eoa8mHW-D",
        "outputId": "fe670e40-7d8a-438a-84c0-11070ecb9b6c"
      },
      "source": [
        "df_2017.columns = ['Change', 'High','Low','Close'] #Se cambia el nombre de la columna 'Open' por 'Change' en el dataframe df_2017\n",
        "concat = pd.concat([aapl_bar, df_2017], axis = 0) #Ahora al añadir las filas de df_2017 a aapl_bar, se añade la nueva columna 'Change' que solo esta en df_2017\n",
        "print(concat)"
      ],
      "execution_count": 134,
      "outputs": [
        {
          "output_type": "stream",
          "name": "stdout",
          "text": [
            "                 Open       High        Low      Close       Volume  \\\n",
            "Date                                                                  \n",
            "2016-01-31  21.792770  22.379028  21.691611  22.379028  257666000.0   \n",
            "2016-02-29  22.389512  22.706192  22.340970  22.350216  140865200.0   \n",
            "2016-03-31  25.362146  25.403754  25.167976  25.193403  103553600.0   \n",
            "2016-04-30  21.726104  21.894847  21.383998  21.668316  274126000.0   \n",
            "2016-05-31  23.163043  23.349092  22.981646  23.223509  169228800.0   \n",
            "2016-06-30  21.963034  22.272338  21.930475  22.232803  143345600.0   \n",
            "2016-07-31  24.230499  24.314221  24.111893  24.235149  110934800.0   \n",
            "2016-08-31  24.705481  24.918257  24.700804  24.808361  118649600.0   \n",
            "2016-09-30  26.295461  26.508239  26.141141  26.433416  145516400.0   \n",
            "2016-10-31  26.573704  26.709320  26.468483  26.547983  105677600.0   \n",
            "2016-11-30  26.228352  26.369365  25.915774  25.974529  144649200.0   \n",
            "2016-12-31  27.415205  27.544465  27.128479  27.220137  122345200.0   \n",
            "2016-10-31        NaN  26.709320  26.468483  26.547983          NaN   \n",
            "2016-11-30        NaN  26.369365  25.915774  25.974529          NaN   \n",
            "2016-12-31        NaN  27.544465  27.128479  27.220137          NaN   \n",
            "2017-01-31        NaN  28.529201  28.348236  28.519800          NaN   \n",
            "2017-02-28        NaN  32.441335  32.266664  32.335117          NaN   \n",
            "2017-03-31        NaN  34.053492  33.756080  33.909508          NaN   \n",
            "2017-04-30        NaN  34.060571  33.817450  33.907143          NaN   \n",
            "\n",
            "            rate_return     Change  \n",
            "Date                                \n",
            "2016-01-31          NaN        NaN  \n",
            "2016-02-29    -0.001287        NaN  \n",
            "2016-03-31     0.127211        NaN  \n",
            "2016-04-30    -0.139921        NaN  \n",
            "2016-05-31     0.071773        NaN  \n",
            "2016-06-30    -0.042660        NaN  \n",
            "2016-07-31     0.090063        NaN  \n",
            "2016-08-31     0.023652        NaN  \n",
            "2016-09-30     0.065504        NaN  \n",
            "2016-10-31     0.004334        NaN  \n",
            "2016-11-30    -0.021601        NaN  \n",
            "2016-12-31     0.047955        NaN  \n",
            "2016-10-31          NaN  26.573704  \n",
            "2016-11-30          NaN  26.228352  \n",
            "2016-12-31          NaN  27.415205  \n",
            "2017-01-31          NaN  28.472797  \n",
            "2017-02-28          NaN  32.356360  \n",
            "2017-03-31          NaN  33.923670  \n",
            "2017-04-30          NaN  34.011001  \n"
          ]
        }
      ]
    },
    {
      "cell_type": "markdown",
      "metadata": {
        "id": "shbpOFyyS6uV"
      },
      "source": [
        "Since the column name of 'Open' has been changed, the new DataFrame has an new column named 'Change'.\n",
        "\n",
        "# Summary\n",
        "\n",
        "Hereby we introduced the most import part of python: resampling and DataFrame manipulation. We only introduced the most commonly used method in Financial data analysis. There are also many methods used in data mining, which are also beneficial. You can always check the [Pandas](https://pandas.pydata.org/pandas-docs/stable/index.html) official documentations for help."
      ]
    }
  ]
}